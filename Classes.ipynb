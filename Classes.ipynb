{
 "cells": [
  {
<<<<<<< Updated upstream
=======
   "cell_type": "markdown",
   "metadata": {},
   "source": [
    "Classes are something quite complicated. That is why I am going to give small challenges everyday on this. I encourage you to come to the practice sessions"
   ]
  },
  {
   "cell_type": "markdown",
   "metadata": {},
   "source": [
    "## 1. Create a class called Sim. This class acts as a blueprint for creating objects that accepts name, age, stamina, intelligence, charisma. Every attribute is an integer, except for name which is a string"
   ]
  },
  {
   "cell_type": "code",
   "execution_count": 2,
   "metadata": {},
   "outputs": [],
   "source": [
    "class Sim():\n",
    "    def __init__(self, name, age, stamina, intelligence, charisma):\n",
    "        self.name = name\n",
    "        self.age = int(age)\n",
    "        self.stamina = int(stamina)\n",
    "        self.intelligence = int(intelligence)\n",
    "        self.charisma = int(charisma)"
   ]
  },
  {
   "cell_type": "markdown",
   "metadata": {},
   "source": [
    "## 2. Add the following methods to the Person Class: train, study, talk_to_mirror. train increase stamina by 1 point. study increase intelligence by one point, talk_to_mirror increase charisma by one point. Additionally, every time you call any of these methods, age increases by 1 year"
   ]
  },
  {
   "cell_type": "code",
   "execution_count": 3,
   "metadata": {},
   "outputs": [],
   "source": [
    "class Sim():\n",
    "    def __init__(self, name, age, stamina, intelligence, charisma):\n",
    "        self.name = name\n",
    "        self.age = int(age)\n",
    "        self.stamina = int(stamina)\n",
    "        self.intelligence = int(intelligence)\n",
    "        self.charisma = int(charisma)\n",
    "    \n",
    "    def train(self):\n",
    "        self.stamina += 1\n",
    "        self.age += 1\n",
    "\n",
    "    def study(self):\n",
    "        self.intelligence += 1\n",
    "        self.age += 1\n",
    "    \n",
    "    def talk_to_mirror(self):\n",
    "        self.charisma += 1\n",
    "        self.age += 1"
   ]
  },
  {
   "cell_type": "markdown",
   "metadata": {},
   "source": [
    "## 3. Create three new classes: Athlete, Genius, Leader. All of them will inherit from Sim.\n",
    "### 3.1 Athlete increases stamina 3 points whenever calls the train method\n",
    "### 3.2 Geniues increases intelligence 3 points whenever calls the study method\n",
    "### 3.3 Leader increases charisma 3 points whenever calls the talk_to_mirror method\n"
   ]
  },
  {
   "cell_type": "markdown",
   "metadata": {},
   "source": [
    "Bonus Point: Do it twice, once overwriting the method, or creating a new method that calls for the parent method and add a functionality"
   ]
  },
  {
>>>>>>> Stashed changes
   "cell_type": "code",
   "execution_count": 14,
   "metadata": {},
   "outputs": [
    {
     "data": {
      "text/plain": [
       "6"
      ]
     },
     "execution_count": 14,
     "metadata": {},
     "output_type": "execute_result"
    }
   ],
   "source": [
    "class Athlete(Sim):\n",
    "    def train(self):\n",
    "        self.stamina += 3\n",
    "\n",
    "class Genius(Sim):\n",
    "    def study(self):\n",
    "        self.intelligence += 3\n",
    "\n",
    "class Leader(Sim):\n",
    "    def talk_to_mirror(self):\n",
    "        self.charisma += 3\n",
    "\n",
    "sam = Athlete('sam', 20, 3,3,3)\n",
    "sam.super_train()\n",
    "sam.stamina"
   ]
  },
  {
   "cell_type": "code",
   "execution_count": 22,
   "metadata": {},
   "outputs": [],
<<<<<<< Updated upstream
=======
   "source": [
    "class Athlete(Sim):\n",
    "    def train(self):\n",
    "        for _ in range(3):\n",
    "            super().train()\n",
    "\n",
    "class Genius(Sim):\n",
    "    def study(self):\n",
    "        for _ in range(3):\n",
    "            super().study()\n",
    "\n",
    "class Leader(Sim):\n",
    "    def talk_to_mirror(self):\n",
    "        for _ in range(3):\n",
    "            super().talk_to_mirror()\n",
    "\n"
   ]
  },
  {
   "cell_type": "markdown",
   "metadata": {},
>>>>>>> Stashed changes
   "source": [
    "{\n",
    " \"cells\": [\n",
    "  {\n",
    "   \"cell_type\": \"markdown\",\n",
    "   \"metadata\": {},\n",
    "   \"source\": [\n",
    "    \"Classes are something quite complicated. That is why I am going to give small challenges everyday on this. I encourage you to come to the practice sessions\"\n",
    "   ]\n",
    "  },\n",
    "  {\n",
    "   \"cell_type\": \"markdown\",\n",
    "   \"metadata\": {},\n",
    "   \"source\": [\n",
    "    \"## 1. Create a class called Sim. This class acts as a blueprint for creating objects that accepts name, age, stamina, intelligence, charisma. Every attribute is an integer, except for name which is a string\"\n",
    "   ]\n",
    "  },\n",
    "  {\n",
    "   \"cell_type\": \"code\",\n",
    "   \"execution_count\": null,\n",
    "   \"metadata\": {},\n",
    "   \"outputs\": [],\n",
    "   \"source\": []\n",
    "  },\n",
    "  {\n",
    "   \"cell_type\": \"markdown\",\n",
    "   \"metadata\": {},\n",
    "   \"source\": [\n",
    "    \"## 2. Add the following methods to the Person Class: train, study, talk_to_mirror. train increase stamina by 1 point. study increase intelligence by one point, talk_to_mirror increase charisma by one point. Additionally, every time you call any of these methods, age increases by 1 year\"\n",
    "   ]\n",
    "  },\n",
    "  {\n",
    "   \"cell_type\": \"code\",\n",
    "   \"execution_count\": null,\n",
    "   \"metadata\": {},\n",
    "   \"outputs\": [],\n",
    "   \"source\": []\n",
    "  },\n",
    "  {\n",
    "   \"cell_type\": \"markdown\",\n",
    "   \"metadata\": {},\n",
    "   \"source\": [\n",
    "    \"## 3. Create three new classes: Athlete, Genius, Leader. All of them will inherit from Sim.\\n\",\n",
    "    \"### 3.1 Athlete increases stamina 3 points whenever calls the train method\\n\",\n",
    "    \"### 3.2 Geniues increases intelligence 3 points whenever calls the study method\\n\",\n",
    "    \"### 3.3 Leader increases charisma 3 points whenever calls the talk_to_mirror method\\n\"\n",
    "   ]\n",
    "  },\n",
    "  {\n",
    "   \"cell_type\": \"markdown\",\n",
    "   \"metadata\": {},\n",
    "   \"source\": [\n",
    "    \"Bonus Point: Do it twice, once overwriting the method, or creating a new method that calls for the parent method and add a functionality\"\n",
    "   ]\n",
    "  },\n",
    "  {\n",
    "   \"cell_type\": \"code\",\n",
    "   \"execution_count\": null,\n",
    "   \"metadata\": {},\n",
    "   \"outputs\": [],\n",
    "   \"source\": []\n",
    "  },\n",
    "  {\n",
    "   \"cell_type\": \"markdown\",\n",
    "   \"metadata\": {},\n",
    "   \"source\": [\n",
    "    \"## 4. Create three new classes: AthleticGenius, AthleticLeader, and GeniusLeader. Each of them will inherit respectively:\\n\",\n",
    "    \"### 4.1 Athlete and Genius\\n\",\n",
    "    \"### 4.2 Athlete and Leader\\n\",\n",
    "    \"### 4.3 Genius and Leader\"\n",
    "   ]\n",
    "  },\n",
    "  {\n",
    "   \"cell_type\": \"code\",\n",
    "   \"execution_count\": null,\n",
    "   \"metadata\": {},\n",
    "   \"outputs\": [],\n",
    "   \"source\": []\n",
    "  },\n",
    "  {\n",
    "   \"cell_type\": \"markdown\",\n",
    "   \"metadata\": {},\n",
    "   \"source\": [\n",
    "    \"Be careful with the super() method!\"\n",
    "   ]\n",
    "  },\n",
    "  {\n",
    "   \"cell_type\": \"markdown\",\n",
    "   \"metadata\": {},\n",
    "   \"source\": []\n",
    "  }\n",
    " ],\n",
    " \"metadata\": {\n",
    "  \"interpreter\": {\n",
    "   \"hash\": \"569d6b7e9215e11aba41c6454007e5c1b78bad7df09dab765d8cf00362c40f03\"\n",
    "  },\n",
    "  \"kernelspec\": {\n",
    "   \"display_name\": \"Python 3.9.1 64-bit ('base': conda)\",\n",
    "   \"name\": \"python3\"\n",
    "  },\n",
    "  \"language_info\": {\n",
    "   \"name\": \"python\",\n",
    "   \"version\": \"\"\n",
    "  },\n",
    "  \"orig_nbformat\": 4\n",
    " },\n",
    " \"nbformat\": 4,\n",
    " \"nbformat_minor\": 2\n",
    "} "
   ]
<<<<<<< Updated upstream
=======
  },
  {
   "cell_type": "code",
   "execution_count": 27,
   "metadata": {},
   "outputs": [
    {
     "data": {
      "text/plain": [
       "6"
      ]
     },
     "execution_count": 27,
     "metadata": {},
     "output_type": "execute_result"
    }
   ],
   "source": [
    "class AthleticGenius(Athlete, Genius):\n",
    "    def train(self):\n",
    "        super().train()\n",
    "    def study(self):\n",
    "        super().study()\n",
    "class AthleticLeader(Athlete, Leader):\n",
    "    def train(self):\n",
    "        super().train()\n",
    "    def talk_to_mirror(self):\n",
    "        super().talk_to_mirror()\n",
    "class GeniusLeader(Genius, Leader):\n",
    "    def study(self):\n",
    "        super().study()\n",
    "    def talk_to_mirror():\n",
    "        super().talk_to_mirror()\n",
    "\n",
    "sam = GeniusLeader('sam', 20, 3,3,3)\n",
    "sam.study()\n",
    "sam.intelligence"
   ]
  },
  {
   "cell_type": "markdown",
   "metadata": {},
   "source": [
    "Be careful with the super() method!"
   ]
  },
  {
   "cell_type": "markdown",
   "metadata": {},
   "source": []
>>>>>>> Stashed changes
  }
 ],
 "metadata": {
  "interpreter": {
   "hash": "dca0ade3e726a953b501b15e8e990130d2b7799f14cfd9f4271676035ebe5511"
  },
  "kernelspec": {
   "display_name": "Python 3.7.6 64-bit ('base': conda)",
   "name": "python3"
  },
  "language_info": {
   "name": "python",
   "version": ""
  },
  "orig_nbformat": 4
 },
 "nbformat": 4,
 "nbformat_minor": 2
}