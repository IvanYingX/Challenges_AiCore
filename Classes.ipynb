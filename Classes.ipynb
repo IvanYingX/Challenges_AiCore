{
 "cells": [
  {
   "cell_type": "markdown",
   "metadata": {},
   "source": [
    "Classes are something quite complicated. That is why I am going to give small challenges everyday on this. I encourage you to come to the practice sessions"
   ]
  },
  {
   "cell_type": "markdown",
   "metadata": {},
   "source": [
    "## 1. Create a class called Sim. This class acts as a blueprint for creating objects that accepts name, age, stamina, intelligence, charisma. Every attribute is an integer, except for name which is a string"
   ]
  },
  {
   "cell_type": "code",
   "execution_count": 1,
   "metadata": {},
   "outputs": [
    {
     "output_type": "execute_result",
     "data": {
      "text/plain": [
       "80"
      ]
     },
     "metadata": {},
     "execution_count": 1
    }
   ],
   "source": [
    "class Sim:\n",
    "    def __init__(self, name, age, stamina, intelligence, charisma):\n",
    "        self.name = name\n",
    "        self.age = age\n",
    "        self.stamina = stamina\n",
    "        self.intelligence = intelligence\n",
    "        self. charisma = charisma\n",
    "\n",
    "Bilal = Sim('Bilal', 26, 80, 90, 60)\n",
    "Bilal.charisma\n",
    "Bilal.stamina"
   ]
  },
  {
   "cell_type": "markdown",
   "metadata": {},
   "source": [
    "## 2. Add the following methods to the Person Class: train, study, talk_to_mirror. train increase stamina by 1 point. study increase intelligence by one point, talk_to_mirror increase charisma by one point. Additionally, every time you call any of these methods, age increases by 1 year"
   ]
  },
  {
   "cell_type": "code",
   "execution_count": 2,
   "metadata": {},
   "outputs": [
    {
     "output_type": "execute_result",
     "data": {
      "text/plain": [
       "\"Abdallah's stamina has been levelled up to 91\""
      ]
     },
     "metadata": {},
     "execution_count": 2
    }
   ],
   "source": [
    "class Person(Sim):\n",
    "    def __init__(self, name, age, stamina, intelligence, charisma):\n",
    "        super().__init__(name, age, stamina, intelligence, charisma)\n",
    "\n",
    "    def train(self):\n",
    "        self.stamina += 1\n",
    "        return f'{self.name}\\'s stamina has been levelled up to {self.stamina}'\n",
    "    \n",
    "    def study(self):\n",
    "        self.intelligence += 1\n",
    "        return f'{self.name}\\'s intelligence has been levelled up to {self.intelligence}'\n",
    "    \n",
    "    def talk_to_mirror(self):\n",
    "        self.charisma += 1\n",
    "        return f'{self.name}\\'s charisma has been levelled up to {self.charisma}'\n",
    "\n",
    "\n",
    "Abdallah = Person('Abdallah', 29, 90, 95, 80)\n",
    "\n",
    "Abdallah.train()\n"
   ]
  },
  {
   "cell_type": "markdown",
   "metadata": {},
   "source": [
    "## 3. Create three new classes: Athlete, Genius, Leader. All of them will inherit from Sim.\n",
    "### 3.1 Athlete increases stamina 3 points whenever calls the train method\n",
    "### 3.2 Geniues increases intelligence 3 points whenever calls the study method\n",
    "### 3.3 Leader increases charisma 3 points whenever calls the talk_to_mirror method\n"
   ]
  },
  {
   "cell_type": "markdown",
   "metadata": {},
   "source": [
    "Bonus Point: Do it twice, once overwriting the method, or creating a new method that calls for the parent method and add a functionality"
   ]
  },
  {
   "cell_type": "code",
   "execution_count": 5,
   "metadata": {},
   "outputs": [
    {
     "output_type": "execute_result",
     "data": {
      "text/plain": [
       "73"
      ]
     },
     "metadata": {},
     "execution_count": 5
    }
   ],
   "source": [
    "class Athlete(Person):\n",
    "    def __init__(self, name, age, stamina, intelligence, charisma):\n",
    "        super().__init__(name, age, stamina, intelligence, charisma)\n",
    "    \n",
    "    def ath_train(self, t):\n",
    "        for i in range(t):\n",
    "            super().train()\n",
    "\n",
    "    \n",
    "\n",
    "Fatima = Athlete('Fatima', 23, 70, 80, 90)\n",
    "Fatima.ath_train(3)\n",
    "Fatima.stamina"
   ]
  },
  {
   "cell_type": "markdown",
   "metadata": {},
   "source": [
    "## 4. Create three new classes: AthleticGenius, AthleticLeader, and GeniusLeader. Each of them will inherit respectively:\n",
    "### 4.1 Athlete and Genius\n",
    "### 4.2 Athlete and Leader\n",
    "### 4.3 Genius and Leader"
   ]
  },
  {
   "cell_type": "code",
   "execution_count": null,
   "metadata": {},
   "outputs": [],
   "source": []
  },
  {
   "cell_type": "markdown",
   "metadata": {},
   "source": [
    "Be careful with the super() method!"
   ]
  },
  {
   "cell_type": "markdown",
   "metadata": {},
   "source": []
  }
 ],
 "metadata": {
  "interpreter": {
   "hash": "0b16f08d5fbf9702491f8691f40090eceecdae0644e315d4be3f470e7d34bd83"
  },
  "kernelspec": {
   "name": "python3",
   "display_name": "Python 3.9.5 64-bit ('AiCore': conda)"
  },
  "language_info": {
   "name": "python",
   "version": "3.9.5"
  },
  "orig_nbformat": 4
 },
 "nbformat": 4,
 "nbformat_minor": 2
}