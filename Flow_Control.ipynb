{
 "cells": [
  {
   "cell_type": "markdown",
   "metadata": {},
   "source": [
    "1. Write a Python Program that asks the user's name. If that name is in the simpson_list, print 'Hello {name} Simpson', where name corresponds to the entered name. If the input is 'Ned' or 'Flanders', print 'Stupid Flanders!'. Otherwise, print 'Who are you?'"
   ]
  },
  {
   "cell_type": "code",
   "execution_count": 13,
   "metadata": {},
   "outputs": [
    {
     "name": "stdout",
     "output_type": "stream",
     "text": [
      "Stupid Flanders!\n"
     ]
    }
   ],
   "source": [
    "simpson_list = ['Homer', 'Marge', 'Bart', 'Lisa', 'Maggie']\n",
    "\n",
    "name = input(\"What's your name?\").capitalize()\n",
    "\n",
    "if name in simpson_list:\n",
    "    print(f'Hello {name} Simpson')\n",
    "elif name == 'Ned' or 'Flanders':\n",
    "    print('Stupid Flanders!')\n",
    "else:\n",
    "    print('Who are you?')"
   ]
  },
  {
   "cell_type": "markdown",
   "metadata": {},
   "source": [
    "2. Write a Python function that iterates from 1 to 100. Print only the number if number is divisible by 3. "
   ]
  },
  {
   "cell_type": "code",
   "execution_count": 14,
   "metadata": {},
   "outputs": [
    {
     "name": "stdout",
     "output_type": "stream",
     "text": [
      "3\n",
      "6\n",
      "9\n",
      "12\n",
      "15\n",
      "18\n",
      "21\n",
      "24\n",
      "27\n",
      "30\n",
      "33\n",
      "36\n",
      "39\n",
      "42\n",
      "45\n",
      "48\n",
      "51\n",
      "54\n",
      "57\n",
      "60\n",
      "63\n",
      "66\n",
      "69\n",
      "72\n",
      "75\n",
      "78\n",
      "81\n",
      "84\n",
      "87\n",
      "90\n",
      "93\n",
      "96\n",
      "99\n"
     ]
    }
   ],
   "source": [
    "for num in range(1,101):\n",
    "    if num % 3 ==0:\n",
    "        print(num)\n"
   ]
  },
  {
   "cell_type": "markdown",
   "metadata": {},
   "source": [
    "3. Write a Python function that creates an infinite loop. At each iteration, it will ask the user for an input. That loop is broken only if the input is 'Password'\n",
    "3.1 Do the same, but now the loop is broken if the input is either 'Password' or 'password'. Can you do it without using an or operator?"
   ]
  },
  {
   "cell_type": "code",
   "execution_count": 15,
   "metadata": {},
   "outputs": [
    {
     "name": "stdout",
     "output_type": "stream",
     "text": [
      "Password\n"
     ]
    }
   ],
   "source": [
    "attempt = None\n",
    "while attempt!='Password':\n",
    "    attempt = input(\"Guess what's the password?\").capitalize()\n",
    "    print(attempt)\n",
    "    \n"
   ]
  },
  {
   "cell_type": "markdown",
   "metadata": {},
   "source": [
    "4. linkin is a dictionary contaning the discography of the band Linkin Park."
   ]
  },
  {
   "cell_type": "code",
   "execution_count": 11,
   "metadata": {},
   "outputs": [
    {
     "name": "stdout",
     "output_type": "stream",
     "text": [
      "Papercut\n",
      "One Step Closer\n",
      "With You\n",
      "Points of Authority\n",
      "Crawling\n",
      "Runaway\n",
      "By Myself\n",
      "In the End\n",
      "A Place For My Head\n",
      "Forgotten\n",
      "Cure for the Itch\n",
      "Pushing Me Away\n",
      "Foreword\n",
      "Don't Stay\n",
      "Somewhere I Belong\n",
      "Lying from You\n",
      "Hit the Floor\n",
      "Easier to Run\n",
      "Faint\n",
      "Figure.09\n",
      "Breaking the Habit\n",
      "From the Inside\n",
      "Nobody's Listening\n",
      "Session\n",
      "Numb\n",
      "Wake\n",
      "Given Up\n",
      "Leave Out All the Rest\n",
      "Bleed it Out\n",
      "Shadow of the Day\n",
      "What I've Done\n",
      "Hands Held High\n",
      "No More Sorrow\n",
      "Valentine's Day\n",
      "In Between\n",
      "In Pieces\n",
      "The Little Things Give You Away\n",
      "The Requiem\n",
      "The Radiance\n",
      "Burning in the Skies\n",
      "Empty Spaces\n",
      "When They Come for Me\n",
      "Robot Boy\n",
      "Jornada Del Muerto\n",
      "Waiting for the End\n",
      "Blackout\n",
      "Wretches and Kings\n",
      "Wisdom, Justice, and Love\n",
      "Iridescent\n",
      "Fallout\n",
      "The Catalyst\n",
      "The Messenger\n",
      "Lost in the Echo\n",
      "In My Remains\n",
      "Burn It Down\n",
      "Lies Greed Misery\n",
      "I'll Be Gone\n",
      "Castle of Glass\n",
      "Victimized\n",
      "Roads Untraveled\n",
      "Skin to Bone\n",
      "Until It Breaks\n",
      "Tinfoil\n",
      "Powerless\n",
      "Keys to the Kingdom\n",
      "All for Nothing\n",
      "Guilty All the Same\n",
      "The Summoning\n",
      "War\n",
      "Wastelands\n",
      "Until It's Gone\n",
      "Rebellion\n",
      "Mark the Graves\n",
      "Drawbar\n",
      "Final Masquerade\n",
      "A Line In the Sand\n",
      "Nobody Can Save Me\n",
      "Good Goodbye\n",
      "Talking to Myself\n",
      "Battle Symphony\n",
      "Invisible\n",
      "Heavy\n",
      "Sorry for Now\n",
      "Halfway Right\n",
      "One More Light\n",
      "Sharp Edges\n"
     ]
    },
    {
     "data": {
      "text/plain": [
       "[12, 13, 12, 15, 12, 12, 10, 0, 8]"
      ]
     },
     "execution_count": 11,
     "metadata": {},
     "output_type": "execute_result"
    }
   ],
   "source": [
    "linkin = {'Hybrid Theory': ['Papercut', 'One Step Closer', 'With You', 'Points of Authority', 'Crawling', 'Runaway', 'By Myself', 'In the End', 'A Place For My Head', 'Forgotten', 'Cure for the Itch', 'Pushing Me Away'], 'Meteora': ['Foreword', 'Don\\'t Stay', 'Somewhere I Belong', 'Lying from You', 'Hit the Floor', 'Easier to Run', 'Faint', 'Figure.09', 'Breaking the Habit', 'From the Inside', 'Nobody\\'s Listening', 'Session', 'Numb'], 'Minutes to Midnight': ['Wake', 'Given Up', 'Leave Out All the Rest', 'Bleed it Out', 'Shadow of the Day', 'What I\\'ve Done', 'Hands Held High', 'No More Sorrow', 'Valentine\\'s Day', 'In Between', 'In Pieces', 'The Little Things Give You Away'], 'A Thousand Suns': ['The Requiem', 'The Radiance', 'Burning in the Skies', 'Empty Spaces', 'When They Come for Me', 'Robot Boy', 'Jornada Del Muerto', 'Waiting for the End', 'Blackout', 'Wretches and Kings', 'Wisdom, Justice, and Love', 'Iridescent', 'Fallout', 'The Catalyst', 'The Messenger'], 'Living Things': ['Lost in the Echo', 'In My Remains', 'Burn It Down', 'Lies Greed Misery', 'I\\'ll Be Gone', 'Castle of Glass', 'Victimized', 'Roads Untraveled', 'Skin to Bone', 'Until It Breaks', 'Tinfoil', 'Powerless'], 'The Hunting Party': ['Keys to the Kingdom', 'All for Nothing', 'Guilty All the Same', 'The Summoning', 'War', 'Wastelands', 'Until It\\'s Gone', 'Rebellion', 'Mark the Graves', 'Drawbar', 'Final Masquerade', 'A Line In the Sand'], 'One More Light': ['Nobody Can Save Me', 'Good Goodbye', 'Talking to Myself', 'Battle Symphony', 'Invisible', 'Heavy', 'Sorry for Now', 'Halfway Right', 'One More Light', 'Sharp Edges']}\n",
    "\n",
    "long_albums = []\n",
    "for key in linkin.keys():\n",
    "    if len(linkin[key])>12:\n",
    "        long_albums.append(key)\n",
    "long_albums\n",
    "\n",
    "\n",
    "\n",
    "\n",
    "\n",
    "\n",
    "\n",
    "\n",
    "\n",
    "\n",
    "\n",
    "\n"
   ]
  },
  {
   "cell_type": "code",
   "execution_count": null,
   "metadata": {},
   "outputs": [],
   "source": [
    "linkin = {'Hybrid Theory': ['Papercut', 'One Step Closer', 'With You', 'Points of Authority', 'Crawling', 'Runaway', 'By Myself', 'In the End', 'A Place For My Head', 'Forgotten', 'Cure for the Itch', 'Pushing Me Away'], 'Meteora': ['Foreword', 'Don\\'t Stay', 'Somewhere I Belong', 'Lying from You', 'Hit the Floor', 'Easier to Run', 'Faint', 'Figure.09', 'Breaking the Habit', 'From the Inside', 'Nobody\\'s Listening', 'Session', 'Numb'], 'Minutes to Midnight': ['Wake', 'Given Up', 'Leave Out All the Rest', 'Bleed it Out', 'Shadow of the Day', 'What I\\'ve Done', 'Hands Held High', 'No More Sorrow', 'Valentine\\'s Day', 'In Between', 'In Pieces', 'The Little Things Give You Away'], 'A Thousand Suns': ['The Requiem', 'The Radiance', 'Burning in the Skies', 'Empty Spaces', 'When They Come for Me', 'Robot Boy', 'Jornada Del Muerto', 'Waiting for the End', 'Blackout', 'Wretches and Kings', 'Wisdom, Justice, and Love', 'Iridescent', 'Fallout', 'The Catalyst', 'The Messenger'], 'Living Things': ['Lost in the Echo', 'In My Remains', 'Burn It Down', 'Lies Greed Misery', 'I\\'ll Be Gone', 'Castle of Glass', 'Victimized', 'Roads Untraveled', 'Skin to Bone', 'Until It Breaks', 'Tinfoil', 'Powerless'], 'The Hunting Party': ['Keys to the Kingdom', 'All for Nothing', 'Guilty All the Same', 'The Summoning', 'War', 'Wastelands', 'Until It\\'s Gone', 'Rebellion', 'Mark the Graves', 'Drawbar', 'Final Masquerade', 'A Line In the Sand'], 'One More Light': ['Nobody Can Save Me', 'Good Goodbye', 'Talking to Myself', 'Battle Symphony', 'Invisible', 'Heavy', 'Sorry for Now', 'Halfway Right', 'One More Light', 'Sharp Edges']}\n",
    "\n",
    "linkin['N_Songs']=[]\n",
    "for key in linkin.keys():\n",
    "    length = len(linkin[key])\n",
    "    linkin['N_Songs'].append(length)\n",
    "linkin['N_Songs']"
   ]
  },
  {
   "cell_type": "code",
   "execution_count": 20,
   "metadata": {},
   "outputs": [
    {
     "data": {
      "text/plain": [
       "['Lying from You',\n",
       " \"Nobody's Listening\",\n",
       " 'Numb',\n",
       " 'Leave Out All the Rest',\n",
       " 'No More Sorrow',\n",
       " 'Lost in the Echo',\n",
       " 'Lies Greed Misery',\n",
       " 'Keys to the Kingdom',\n",
       " 'Nobody Can Save Me']"
      ]
     },
     "execution_count": 20,
     "metadata": {},
     "output_type": "execute_result"
    }
   ],
   "source": [
    "linkin = {'Hybrid Theory': ['Papercut', 'One Step Closer', 'With You', 'Points of Authority', 'Crawling', 'Runaway', 'By Myself', 'In the End', 'A Place For My Head', 'Forgotten', 'Cure for the Itch', 'Pushing Me Away'], 'Meteora': ['Foreword', 'Don\\'t Stay', 'Somewhere I Belong', 'Lying from You', 'Hit the Floor', 'Easier to Run', 'Faint', 'Figure.09', 'Breaking the Habit', 'From the Inside', 'Nobody\\'s Listening', 'Session', 'Numb'], 'Minutes to Midnight': ['Wake', 'Given Up', 'Leave Out All the Rest', 'Bleed it Out', 'Shadow of the Day', 'What I\\'ve Done', 'Hands Held High', 'No More Sorrow', 'Valentine\\'s Day', 'In Between', 'In Pieces', 'The Little Things Give You Away'], 'A Thousand Suns': ['The Requiem', 'The Radiance', 'Burning in the Skies', 'Empty Spaces', 'When They Come for Me', 'Robot Boy', 'Jornada Del Muerto', 'Waiting for the End', 'Blackout', 'Wretches and Kings', 'Wisdom, Justice, and Love', 'Iridescent', 'Fallout', 'The Catalyst', 'The Messenger'], 'Living Things': ['Lost in the Echo', 'In My Remains', 'Burn It Down', 'Lies Greed Misery', 'I\\'ll Be Gone', 'Castle of Glass', 'Victimized', 'Roads Untraveled', 'Skin to Bone', 'Until It Breaks', 'Tinfoil', 'Powerless'], 'The Hunting Party': ['Keys to the Kingdom', 'All for Nothing', 'Guilty All the Same', 'The Summoning', 'War', 'Wastelands', 'Until It\\'s Gone', 'Rebellion', 'Mark the Graves', 'Drawbar', 'Final Masquerade', 'A Line In the Sand'], 'One More Light': ['Nobody Can Save Me', 'Good Goodbye', 'Talking to Myself', 'Battle Symphony', 'Invisible', 'Heavy', 'Sorry for Now', 'Halfway Right', 'One More Light', 'Sharp Edges']}\n",
    "\n",
    "lnk_songs = []\n",
    "for song_list in linkin.values():\n",
    "    for song in song_list:\n",
    "        if song[0]=='L' or song[0]=='N' or song[0]=='K':\n",
    "            lnk_songs.append(song)\n",
    "linkin['lnk_songs'] = lnk_songs"
   ]
  },
  {
   "cell_type": "code",
   "execution_count": 18,
   "metadata": {},
   "outputs": [
    {
     "name": "stdout",
     "output_type": "stream",
     "text": [
      "H\n",
      "M\n",
      "M\n",
      "A\n",
      "L\n",
      "T\n",
      "O\n"
     ]
    },
    {
     "data": {
      "text/plain": [
       "['With You',\n",
       " 'Points of Authority',\n",
       " 'In the End',\n",
       " 'A Place For My Head',\n",
       " 'Cure for the Itch',\n",
       " 'Pushing Me Away',\n",
       " 'Somewhere I Belong',\n",
       " 'Lying from You',\n",
       " 'From the Inside',\n",
       " 'Numb',\n",
       " 'No More Sorrow',\n",
       " 'The Radiance',\n",
       " 'Empty Spaces',\n",
       " 'Jornada Del Muerto',\n",
       " 'Waiting for the End',\n",
       " 'Blackout',\n",
       " 'Wretches and Kings',\n",
       " 'Wisdom, Justice, and Love',\n",
       " 'Fallout',\n",
       " 'The Catalyst',\n",
       " 'Lost in the Echo',\n",
       " 'Lies Greed Misery',\n",
       " \"I'll Be Gone\",\n",
       " 'Castle of Glass',\n",
       " 'Roads Untraveled',\n",
       " 'Until It Breaks',\n",
       " 'Tinfoil',\n",
       " 'Powerless',\n",
       " 'Keys to the Kingdom',\n",
       " 'All for Nothing',\n",
       " 'Guilty All the Same',\n",
       " 'The Summoning',\n",
       " 'Wastelands',\n",
       " \"Until It's Gone\",\n",
       " 'Mark the Graves',\n",
       " 'A Line In the Sand',\n",
       " 'Nobody Can Save Me',\n",
       " 'Good Goodbye',\n",
       " 'Talking to Myself',\n",
       " 'Battle Symphony',\n",
       " 'Sorry for Now',\n",
       " 'One More Light']"
      ]
     },
     "execution_count": 18,
     "metadata": {},
     "output_type": "execute_result"
    }
   ],
   "source": [
    "linkin = {'Hybrid Theory': ['Papercut', 'One Step Closer', 'With You', 'Points of Authority', 'Crawling', 'Runaway', 'By Myself', 'In the End', 'A Place For My Head', 'Forgotten', 'Cure for the Itch', 'Pushing Me Away'], 'Meteora': ['Foreword', 'Don\\'t Stay', 'Somewhere I Belong', 'Lying from You', 'Hit the Floor', 'Easier to Run', 'Faint', 'Figure.09', 'Breaking the Habit', 'From the Inside', 'Nobody\\'s Listening', 'Session', 'Numb'], 'Minutes to Midnight': ['Wake', 'Given Up', 'Leave Out All the Rest', 'Bleed it Out', 'Shadow of the Day', 'What I\\'ve Done', 'Hands Held High', 'No More Sorrow', 'Valentine\\'s Day', 'In Between', 'In Pieces', 'The Little Things Give You Away'], 'A Thousand Suns': ['The Requiem', 'The Radiance', 'Burning in the Skies', 'Empty Spaces', 'When They Come for Me', 'Robot Boy', 'Jornada Del Muerto', 'Waiting for the End', 'Blackout', 'Wretches and Kings', 'Wisdom, Justice, and Love', 'Iridescent', 'Fallout', 'The Catalyst', 'The Messenger'], 'Living Things': ['Lost in the Echo', 'In My Remains', 'Burn It Down', 'Lies Greed Misery', 'I\\'ll Be Gone', 'Castle of Glass', 'Victimized', 'Roads Untraveled', 'Skin to Bone', 'Until It Breaks', 'Tinfoil', 'Powerless'], 'The Hunting Party': ['Keys to the Kingdom', 'All for Nothing', 'Guilty All the Same', 'The Summoning', 'War', 'Wastelands', 'Until It\\'s Gone', 'Rebellion', 'Mark the Graves', 'Drawbar', 'Final Masquerade', 'A Line In the Sand'], 'One More Light': ['Nobody Can Save Me', 'Good Goodbye', 'Talking to Myself', 'Battle Symphony', 'Invisible', 'Heavy', 'Sorry for Now', 'Halfway Right', 'One More Light', 'Sharp Edges']}\n",
    "album_songs = []\n",
    "for key in linkin.keys():\n",
    "    for song in linkin[key]:\n",
    "        if key[0].lower() in song.lower():\n",
    "            album_songs.append(song)\n",
    "\n",
    "album_songs"
   ]
  },
  {
   "cell_type": "code",
   "execution_count": null,
   "metadata": {},
   "outputs": [],
   "source": [
    "def div_3(n):\n",
    "    for num in range(1, n):\n",
    "        if num % 3 ==0:\n",
    "            print(num)"
   ]
  },
  {
   "cell_type": "code",
   "execution_count": 14,
   "metadata": {},
   "outputs": [
    {
     "name": "stdout",
     "output_type": "stream",
     "text": [
      "24\n"
     ]
    }
   ],
   "source": [
    "def factorial(n):\n",
    "    if n==0:\n",
    "         return 1\n",
    "    else:\n",
    "        return n*factorial(n-1)\n",
    "\n",
    "print(factorial(4))"
   ]
  },
  {
   "cell_type": "markdown",
   "metadata": {},
   "source": [
    "4.1 Create a list named long_albums, that contains the names of those albums that contain more than 12 songs\n",
    "\n",
    "4.2 Add a new key to the dictionary named 'N_Songs', whose value is a list with the number of songs of each album.\n",
    "\n",
    "4.3 Create a list named lnk_songs that contains all the names of the songs that start with either 'L', 'N', or 'K'\n",
    "\n",
    "4.4 Create a list named album_songs that contains all the names of the songs that contains the first letter of the album containing that song. For example, in the album Hybrid Theory, you would add 'WitH You', 'Points of autHority', 'In tHe End', 'A place for my Head', 'Cure for the itcH', and 'PusHing me Away', because all those songs have 'H' in its name."
   ]
  },
  {
   "cell_type": "markdown",
   "metadata": {},
   "source": [
    "5. Go again through Exercise 2, but now create a function called div_3, that takes one argument n. The function will print all numbers between 1 and n that are divisible by 3. The function will return nothing"
   ]
  },
  {
   "cell_type": "markdown",
   "metadata": {},
   "source": [
    "6. Create a recursive function that accepts one argument n, and it will return the factorial of n. (n!)"
   ]
  },
  {
   "cell_type": "markdown",
   "metadata": {},
   "source": [
    "7. Create a function called bef_aft that accepts another function as an argument. bef_aft should print 'Hello there', run the function, print 'Goodbye!'. Use this dummy function to test it."
   ]
  },
  {
   "cell_type": "code",
   "execution_count": 32,
   "metadata": {},
   "outputs": [
    {
     "name": "stdout",
     "output_type": "stream",
     "text": [
      "Hello there\n",
      "Ignore me, I am just passing by\n",
      "Goodbye!\n"
     ]
    }
   ],
   "source": [
    "def dummy_fun():\n",
    "    print('Ignore me, I am just passing by')\n",
    "\n",
    "def bef_aft(x):\n",
    "    print('Hello there')\n",
    "    x()\n",
    "    print('Goodbye!')\n",
    "\n",
    "bef_aft(dummy_fun)"
   ]
  }
 ],
 "metadata": {
  "interpreter": {
   "hash": "dca0ade3e726a953b501b15e8e990130d2b7799f14cfd9f4271676035ebe5511"
  },
  "kernelspec": {
   "display_name": "Python 3.7.6 64-bit ('base': conda)",
   "name": "python3"
  },
  "language_info": {
   "codemirror_mode": {
    "name": "ipython",
    "version": 3
   },
   "file_extension": ".py",
   "mimetype": "text/x-python",
   "name": "python",
   "nbconvert_exporter": "python",
   "pygments_lexer": "ipython3",
   "version": "3.7.6"
  },
  "orig_nbformat": 4
 },
 "nbformat": 4,
 "nbformat_minor": 2
}