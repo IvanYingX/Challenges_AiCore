{
 "cells": [
  {
   "cell_type": "markdown",
   "metadata": {},
   "source": [
    "1. Write a Python Program that asks the user's name. If that name is in the simpson_list, print 'Hello {name} Simpson', where name corresponds to the entered name. If the input is 'Ned' or 'Flanders', print 'Stupid Flanders!'. Otherwise, print 'Who are you?'"
   ]
  },
  {
   "cell_type": "code",
   "execution_count": 23,
   "metadata": {
    "collapsed": true
   },
   "outputs": [
    {
     "output_type": "stream",
     "name": "stdout",
     "text": [
      "Who are you?\n"
     ]
    }
   ],
   "source": [
    "simpson_list = ['Homer', 'Marge', 'Bart', 'Lisa', 'Maggie']\n",
    "\n",
    "name = input('What is your name?')\n",
    "\n",
    "if name in simpson_list:\n",
    "    print('Hello' + ' ' + name)\n",
    "elif name == 'Ned':\n",
    "    print('Stupid Flanders')\n",
    "elif name == 'Flanders':\n",
    "    print('Stupid Flanders')\n",
    "else:\n",
    "    print('Who are you?')"
   ]
  },
  {
   "cell_type": "markdown",
   "metadata": {},
   "source": [
    "2. Write a Python function that iterates from 1 to 100. Print only the number if number is divisible by 3. "
   ]
  },
  {
   "cell_type": "code",
   "execution_count": 24,
   "metadata": {},
   "outputs": [
    {
     "output_type": "stream",
     "name": "stdout",
     "text": [
      "not divisible\nnot divisible\n3.0\nnot divisible\nnot divisible\n6.0\nnot divisible\nnot divisible\n9.0\nnot divisible\nnot divisible\n12.0\nnot divisible\nnot divisible\n15.0\nnot divisible\nnot divisible\n18.0\nnot divisible\nnot divisible\n21.0\nnot divisible\nnot divisible\n24.0\nnot divisible\nnot divisible\n27.0\nnot divisible\nnot divisible\n30.0\nnot divisible\nnot divisible\n33.0\nnot divisible\nnot divisible\n36.0\nnot divisible\nnot divisible\n39.0\nnot divisible\nnot divisible\n42.0\nnot divisible\nnot divisible\n45.0\nnot divisible\nnot divisible\n48.0\nnot divisible\nnot divisible\n51.0\nnot divisible\nnot divisible\n54.0\nnot divisible\nnot divisible\n57.0\nnot divisible\nnot divisible\n60.0\nnot divisible\nnot divisible\n63.0\nnot divisible\nnot divisible\n66.0\nnot divisible\nnot divisible\n69.0\nnot divisible\nnot divisible\n72.0\nnot divisible\nnot divisible\n75.0\nnot divisible\nnot divisible\n78.0\nnot divisible\nnot divisible\n81.0\nnot divisible\nnot divisible\n84.0\nnot divisible\nnot divisible\n87.0\nnot divisible\nnot divisible\n90.0\nnot divisible\nnot divisible\n93.0\nnot divisible\nnot divisible\n96.0\nnot divisible\nnot divisible\n99.0\nnot divisible\n"
     ]
    }
   ],
   "source": [
    "import numpy as np\n",
    "\n",
    "def iter(start, stop, num, n):\n",
    "    sequence = list(np.linspace(start, stop, num))\n",
    "    for i in sequence:\n",
    "        if i%n == 0:\n",
    "            print(i)\n",
    "        else:\n",
    "            print('not divisible')\n",
    "\n",
    "iter(1,100,100,3)\n",
    "    "
   ]
  },
  {
   "cell_type": "markdown",
   "metadata": {},
   "source": [
    "3. Write a Python function that creates an infinite loop. At each iteration, it will ask the user for an input. That loop is broken only if the input is 'Password'\n",
    "3.1 Do the same, but now the loop is broken if the input is either 'Password' or 'password'. Can you do it without using an or operator?"
   ]
  },
  {
   "cell_type": "code",
   "execution_count": 25,
   "metadata": {},
   "outputs": [
    {
     "output_type": "stream",
     "name": "stdout",
     "text": [
      "Checking ...  done\n"
     ]
    }
   ],
   "source": [
    "def pass_checker():\n",
    "    x = 0\n",
    "    while True:\n",
    "        login = input('Enter password: ')\n",
    "        if login == 'Password':\n",
    "            print('Checking ...  done')\n",
    "            break\n",
    "    return\n",
    "\n",
    "pass_checker()\n",
    "    \n",
    "    "
   ]
  },
  {
   "cell_type": "code",
   "execution_count": 26,
   "metadata": {},
   "outputs": [
    {
     "output_type": "stream",
     "name": "stdout",
     "text": [
      "Checking ...  done\n"
     ]
    }
   ],
   "source": [
    "def pass_checker():\n",
    "    x = 0\n",
    "    while True:\n",
    "        login = input('Enter password: ')\n",
    "        if login == 'Password' or login == 'password':\n",
    "            print('Checking ...  done')\n",
    "            break\n",
    "    return\n",
    "\n",
    "pass_checker()\n",
    "    "
   ]
  },
  {
   "cell_type": "code",
   "execution_count": 27,
   "metadata": {},
   "outputs": [
    {
     "output_type": "stream",
     "name": "stdout",
     "text": [
      "Checking ...  done\n"
     ]
    }
   ],
   "source": [
    "def pass_checker():\n",
    "    x = 0\n",
    "    while True:\n",
    "        login = input('Enter password: ')\n",
    "        if login == 'Password':\n",
    "            print('Checking ...  done')\n",
    "        elif login == 'password':\n",
    "            print('Checking ...  done')\n",
    "            break\n",
    "    return\n",
    "\n",
    "pass_checker()"
   ]
  },
  {
   "cell_type": "markdown",
   "metadata": {},
   "source": [
    "4. linkin is a dictionary contaning the discography of the band Linkin Park."
   ]
  },
  {
   "cell_type": "code",
   "execution_count": 4,
   "metadata": {
    "collapsed": true
   },
   "outputs": [
    {
     "output_type": "stream",
     "name": "stdout",
     "text": [
      "['Foreword', \"Don't Stay\", 'Somewhere I Belong', 'Lying from You', 'Hit the Floor', 'Easier to Run', 'Faint', 'Figure.09', 'Breaking the Habit', 'From the Inside', \"Nobody's Listening\", 'Session', 'Numb']\n['The Requiem', 'The Radiance', 'Burning in the Skies', 'Empty Spaces', 'When They Come for Me', 'Robot Boy', 'Jornada Del Muerto', 'Waiting for the End', 'Blackout', 'Wretches and Kings', 'Wisdom, Justice, and Love', 'Iridescent', 'Fallout', 'The Catalyst', 'The Messenger']\n"
     ]
    }
   ],
   "source": [
    "linkin = {'Hybrid Theory': ['Papercut', 'One Step Closer', 'With You', 'Points of Authority', 'Crawling', 'Runaway', 'By Myself', 'In the End', 'A Place For My Head', 'Forgotten', 'Cure for the Itch', 'Pushing Me Away'], 'Meteora': ['Foreword', 'Don\\'t Stay', 'Somewhere I Belong', 'Lying from You', 'Hit the Floor', 'Easier to Run', 'Faint', 'Figure.09', 'Breaking the Habit', 'From the Inside', 'Nobody\\'s Listening', 'Session', 'Numb'], 'Minutes to Midnight': ['Wake', 'Given Up', 'Leave Out All the Rest', 'Bleed it Out', 'Shadow of the Day', 'What I\\'ve Done', 'Hands Held High', 'No More Sorrow', 'Valentine\\'s Day', 'In Between', 'In Pieces', 'The Little Things Give You Away'], 'A Thousand Suns': ['The Requiem', 'The Radiance', 'Burning in the Skies', 'Empty Spaces', 'When They Come for Me', 'Robot Boy', 'Jornada Del Muerto', 'Waiting for the End', 'Blackout', 'Wretches and Kings', 'Wisdom, Justice, and Love', 'Iridescent', 'Fallout', 'The Catalyst', 'The Messenger'], 'Living Things': ['Lost in the Echo', 'In My Remains', 'Burn It Down', 'Lies Greed Misery', 'I\\'ll Be Gone', 'Castle of Glass', 'Victimized', 'Roads Untraveled', 'Skin to Bone', 'Until It Breaks', 'Tinfoil', 'Powerless'], 'The Hunting Party': ['Keys to the Kingdom', 'All for Nothing', 'Guilty All the Same', 'The Summoning', 'War', 'Wastelands', 'Until It\\'s Gone', 'Rebellion', 'Mark the Graves', 'Drawbar', 'Final Masquerade', 'A Line In the Sand'], 'One More Light': ['Nobody Can Save Me', 'Good Goodbye', 'Talking to Myself', 'Battle Symphony', 'Invisible', 'Heavy', 'Sorry for Now', 'Halfway Right', 'One More Light', 'Sharp Edges']}\n",
    "\n"
   ]
  },
  {
   "cell_type": "markdown",
   "metadata": {},
   "source": [
    "4.1 Create a list named long_albums, that contains the names of those albums that contain more than 12 songs\n",
    "\n",
    "4.2 Add a new key to the dictionary named 'N_Songs', whose value is a list with the number of songs of each album.\n",
    "\n",
    "4.3 Create a list named lnk_songs that contains all the names of the songs that start with either 'L', 'N', or 'K'\n",
    "\n",
    "4.4 Create a list named album_songs that contains all the names of the songs that contains the first letter of the album containing that song. For example, in the album Hybrid Theory, you would add 'WitH You', 'Points of autHority', 'In tHe End', 'A place for my Head', 'Cure for the itcH', and 'PusHing me Away', because all those songs have 'H' in its name."
   ]
  },
  {
   "cell_type": "code",
   "execution_count": 11,
   "metadata": {},
   "outputs": [
    {
     "output_type": "stream",
     "name": "stdout",
     "text": [
      "[['Foreword', \"Don't Stay\", 'Somewhere I Belong', 'Lying from You', 'Hit the Floor', 'Easier to Run', 'Faint', 'Figure.09', 'Breaking the Habit', 'From the Inside', \"Nobody's Listening\", 'Session', 'Numb'], ['The Requiem', 'The Radiance', 'Burning in the Skies', 'Empty Spaces', 'When They Come for Me', 'Robot Boy', 'Jornada Del Muerto', 'Waiting for the End', 'Blackout', 'Wretches and Kings', 'Wisdom, Justice, and Love', 'Iridescent', 'Fallout', 'The Catalyst', 'The Messenger']]\n"
     ]
    }
   ],
   "source": [
    "# 4.1 Create a list named long_albums, that contains the names of those albums that contain more than 12 songs\n",
    "\n",
    "long_albums = []\n",
    "for i in list(linkin.values()):\n",
    "    if len(i) > 12:\n",
    "        long_albums.append(i)\n",
    "print(long_albums)"
   ]
  },
  {
   "cell_type": "code",
   "execution_count": 21,
   "metadata": {},
   "outputs": [
    {
     "output_type": "stream",
     "name": "stdout",
     "text": [
      "{'Hybrid Theory': ['Papercut', 'One Step Closer', 'With You', 'Points of Authority', 'Crawling', 'Runaway', 'By Myself', 'In the End', 'A Place For My Head', 'Forgotten', 'Cure for the Itch', 'Pushing Me Away'], 'Meteora': ['Foreword', \"Don't Stay\", 'Somewhere I Belong', 'Lying from You', 'Hit the Floor', 'Easier to Run', 'Faint', 'Figure.09', 'Breaking the Habit', 'From the Inside', \"Nobody's Listening\", 'Session', 'Numb'], 'Minutes to Midnight': ['Wake', 'Given Up', 'Leave Out All the Rest', 'Bleed it Out', 'Shadow of the Day', \"What I've Done\", 'Hands Held High', 'No More Sorrow', \"Valentine's Day\", 'In Between', 'In Pieces', 'The Little Things Give You Away'], 'A Thousand Suns': ['The Requiem', 'The Radiance', 'Burning in the Skies', 'Empty Spaces', 'When They Come for Me', 'Robot Boy', 'Jornada Del Muerto', 'Waiting for the End', 'Blackout', 'Wretches and Kings', 'Wisdom, Justice, and Love', 'Iridescent', 'Fallout', 'The Catalyst', 'The Messenger'], 'Living Things': ['Lost in the Echo', 'In My Remains', 'Burn It Down', 'Lies Greed Misery', \"I'll Be Gone\", 'Castle of Glass', 'Victimized', 'Roads Untraveled', 'Skin to Bone', 'Until It Breaks', 'Tinfoil', 'Powerless'], 'The Hunting Party': ['Keys to the Kingdom', 'All for Nothing', 'Guilty All the Same', 'The Summoning', 'War', 'Wastelands', \"Until It's Gone\", 'Rebellion', 'Mark the Graves', 'Drawbar', 'Final Masquerade', 'A Line In the Sand'], 'One More Light': ['Nobody Can Save Me', 'Good Goodbye', 'Talking to Myself', 'Battle Symphony', 'Invisible', 'Heavy', 'Sorry for Now', 'Halfway Right', 'One More Light', 'Sharp Edges'], 'N_songs': [12, 13, 12, 15, 12, 12, 10, 7]}\n"
     ]
    }
   ],
   "source": [
    "# 4.2  Add a new key to the dictionary named 'N_Songs', whose value is a list with the number of songs of each album.\n",
    "N_songs = []\n",
    "for i in list(linkin.values()):\n",
    "    N_songs.append(len(i))\n",
    "#print(N_songs, '\\n')\n",
    "linkin['N_songs'] = N_songs\n",
    "print(linkin)\n",
    "\n",
    "    \n",
    "    \n"
   ]
  },
  {
   "cell_type": "markdown",
   "metadata": {},
   "source": [
    "5. Go again through Exercise 2, but now create a function called div_3, that takes one argument n. The function will print all numbers between 1 and n that are divisible by 3. The function will return nothing"
   ]
  },
  {
   "cell_type": "markdown",
   "metadata": {},
   "source": [
    "6. Create a recursive function that accepts one argument n, and it will return the factorial of n. (n!)"
   ]
  },
  {
   "cell_type": "markdown",
   "metadata": {},
   "source": [
    "7. Create a function called bef_aft that accepts another function as an argument. bef_aft should print 'Hello there', run the function, print 'Goodbye!'. Use this dummy function to test it."
   ]
  },
  {
   "cell_type": "code",
   "execution_count": 5,
   "metadata": {
    "collapsed": true
   },
   "outputs": [],
   "source": [
    "def dummy_fun():\n",
    "    print('Ignore me, I am just passing by')"
   ]
  }
 ],
 "metadata": {
  "interpreter": {
   "hash": "459c6d25ee9319b0601b9a9ff8eb59f028461cdf5ffe762fb40d2f57f625ee6a"
  },
  "kernelspec": {
   "name": "python3",
   "display_name": "Python 3.7.7 64-bit ('test': conda)"
  },
  "language_info": {
   "codemirror_mode": {
    "name": "ipython",
    "version": 3
   },
   "file_extension": ".py",
   "mimetype": "text/x-python",
   "name": "python",
   "nbconvert_exporter": "python",
   "pygments_lexer": "ipython3",
   "version": "3.7.7"
  }
 },
 "nbformat": 4,
 "nbformat_minor": 2
}