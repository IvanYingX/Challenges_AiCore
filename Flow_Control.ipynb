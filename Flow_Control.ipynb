{
 "metadata": {
  "language_info": {
   "codemirror_mode": {
    "name": "ipython",
    "version": 3
   },
   "file_extension": ".py",
   "mimetype": "text/x-python",
   "name": "python",
   "nbconvert_exporter": "python",
   "pygments_lexer": "ipython3",
   "version": "3.8.5"
  },
  "orig_nbformat": 4,
  "kernelspec": {
   "name": "python3",
   "display_name": "Python 3.8.5 64-bit ('base': conda)"
  },
  "interpreter": {
   "hash": "e1e2229a1fa9870ee33783501b0558f0ddbc8a2ab996f1e23e75624c7e4b09f8"
  }
 },
 "nbformat": 4,
 "nbformat_minor": 2,
 "cells": [
  {
   "source": [
    "1. Write a Python Program that asks the user's name. If that name is in the simpson_list, print 'Hello {name} Simpson', where name corresponds to the entered name. If the input is 'Ned' or 'Flanders', print 'Stupid Flanders!'. Otherwise, print 'Who are you?'"
   ],
   "cell_type": "markdown",
   "metadata": {}
  },
  {
   "cell_type": "code",
   "execution_count": 1,
   "metadata": {},
   "outputs": [],
   "source": [
    "simpson_list = ['Homer', 'Marge', 'Bart', 'Lisa', 'Maggie']"
   ]
  },
  {
   "cell_type": "code",
   "execution_count": 6,
   "metadata": {},
   "outputs": [
    {
     "output_type": "stream",
     "name": "stdout",
     "text": [
      "Hello Homer Simpson\n"
     ]
    }
   ],
   "source": [
    "name = input(\"Enter your name: \")\n",
    "\n",
    "if name in simpson_list:\n",
    "    print(\"Hello {} Simpson\".format(name))\n",
    "elif name == 'Ned' or name == 'Flanders':\n",
    "    print (\"Stupid Flanders!\")\n",
    "else:\n",
    "    print (\"Who are you?\")"
   ]
  },
  {
   "source": [
    "2. Write a Python function that iterates from 1 to 100. Print only the number if number is divisible by 3. "
   ],
   "cell_type": "markdown",
   "metadata": {}
  },
  {
   "cell_type": "code",
   "execution_count": 17,
   "metadata": {},
   "outputs": [
    {
     "output_type": "stream",
     "name": "stdout",
     "text": [
      "3\n6\n9\n12\n15\n18\n21\n24\n27\n30\n33\n36\n39\n42\n45\n48\n51\n54\n57\n60\n63\n66\n69\n72\n75\n78\n81\n84\n87\n90\n93\n96\n99\n"
     ]
    }
   ],
   "source": [
    "def numbers():\n",
    "    for i in range(1, 101):\n",
    "        if i % 3 == 0:\n",
    "            print(i)\n",
    "numbers() "
   ]
  },
  {
   "source": [
    "3. Write a Python function that creates an infinite loop. At each iteration, it will ask the user for an input. That loop is broken only if the input is 'Password'\n",
    "3.1 Do the same, but now the loop is broken if the input is either 'Password' or 'password'. Can you do it without using an or operator?"
   ],
   "cell_type": "markdown",
   "metadata": {}
  },
  {
   "cell_type": "code",
   "execution_count": 12,
   "metadata": {},
   "outputs": [],
   "source": [
    "password = input(\"Enter password: \")\n",
    "while password != \"Password\":\n",
    "        if password == \"Password\":\n",
    "            break\n",
    "        password = input(\"Enter password: \")"
   ]
  },
  {
   "source": [
    "4. linkin is a dictionary contaning the discography of the band Linkin Park."
   ],
   "cell_type": "markdown",
   "metadata": {}
  },
  {
   "cell_type": "code",
   "execution_count": 2,
   "metadata": {},
   "outputs": [],
   "source": [
    "linkin = {'Hybrid Theory': ['Papercut', 'One Step Closer', 'With You', 'Points of Authority', 'Crawling', 'Runaway', 'By Myself', 'In the End', 'A Place For My Head', 'Forgotten', 'Cure for the Itch', 'Pushing Me Away'], 'Meteora': ['Foreword', 'Don\\'t Stay', 'Somewhere I Belong', 'Lying from You', 'Hit the Floor', 'Easier to Run', 'Faint', 'Figure.09', 'Breaking the Habit', 'From the Inside', 'Nobody\\'s Listening', 'Session', 'Numb'], 'Minutes to Midnight': ['Wake', 'Given Up', 'Leave Out All the Rest', 'Bleed it Out', 'Shadow of the Day', 'What I\\'ve Done', 'Hands Held High', 'No More Sorrow', 'Valentine\\'s Day', 'In Between', 'In Pieces', 'The Little Things Give You Away'], 'A Thousand Suns': ['The Requiem', 'The Radiance', 'Burning in the Skies', 'Empty Spaces', 'When They Come for Me', 'Robot Boy', 'Jornada Del Muerto', 'Waiting for the End', 'Blackout', 'Wretches and Kings', 'Wisdom, Justice, and Love', 'Iridescent', 'Fallout', 'The Catalyst', 'The Messenger'], 'Living Things': ['Lost in the Echo', 'In My Remains', 'Burn It Down', 'Lies Greed Misery', 'I\\'ll Be Gone', 'Castle of Glass', 'Victimized', 'Roads Untraveled', 'Skin to Bone', 'Until It Breaks', 'Tinfoil', 'Powerless'], 'The Hunting Party': ['Keys to the Kingdom', 'All for Nothing', 'Guilty All the Same', 'The Summoning', 'War', 'Wastelands', 'Until It\\'s Gone', 'Rebellion', 'Mark the Graves', 'Drawbar', 'Final Masquerade', 'A Line In the Sand'], 'One More Light': ['Nobody Can Save Me', 'Good Goodbye', 'Talking to Myself', 'Battle Symphony', 'Invisible', 'Heavy', 'Sorry for Now', 'Halfway Right', 'One More Light', 'Sharp Edges']}"
   ]
  },
  {
   "source": [
    "4.1 Create a list named long_albums, that contains the names of those albums that contain more than 12 songs\n",
    "\n",
    "4.2 Add a new key to the dictionary named 'N_Songs', whose value is a list with the number of songs of each album.\n",
    "\n",
    "4.3 Create a list named lnk_songs that contains all the names of the songs that start with either 'L', 'N', or 'K'\n",
    "\n",
    "4.4 Create a list named album_songs that contains all the names of the songs that contains the first letter of the album containing that song. For example, in the album Hybrid Theory, you would add 'WitH You', 'Points of autHority', 'In tHe End', 'A place for my Head', 'Cure for the itcH', and 'PusHing me Away', because all those songs have 'H' in its name."
   ],
   "cell_type": "markdown",
   "metadata": {}
  },
  {
   "cell_type": "code",
   "execution_count": 13,
   "metadata": {},
   "outputs": [
    {
     "output_type": "stream",
     "name": "stdout",
     "text": [
      "[['Papercut', 'One Step Closer', 'With You', 'Points of Authority', 'Crawling', 'Runaway', 'By Myself', 'In the End', 'A Place For My Head', 'Forgotten', 'Cure for the Itch', 'Pushing Me Away'], ['Foreword', \"Don't Stay\", 'Somewhere I Belong', 'Lying from You', 'Hit the Floor', 'Easier to Run', 'Faint', 'Figure.09', 'Breaking the Habit', 'From the Inside', \"Nobody's Listening\", 'Session', 'Numb'], ['Wake', 'Given Up', 'Leave Out All the Rest', 'Bleed it Out', 'Shadow of the Day', \"What I've Done\", 'Hands Held High', 'No More Sorrow', \"Valentine's Day\", 'In Between', 'In Pieces', 'The Little Things Give You Away'], ['The Requiem', 'The Radiance', 'Burning in the Skies', 'Empty Spaces', 'When They Come for Me', 'Robot Boy', 'Jornada Del Muerto', 'Waiting for the End', 'Blackout', 'Wretches and Kings', 'Wisdom, Justice, and Love', 'Iridescent', 'Fallout', 'The Catalyst', 'The Messenger'], ['Lost in the Echo', 'In My Remains', 'Burn It Down', 'Lies Greed Misery', \"I'll Be Gone\", 'Castle of Glass', 'Victimized', 'Roads Untraveled', 'Skin to Bone', 'Until It Breaks', 'Tinfoil', 'Powerless'], ['Keys to the Kingdom', 'All for Nothing', 'Guilty All the Same', 'The Summoning', 'War', 'Wastelands', \"Until It's Gone\", 'Rebellion', 'Mark the Graves', 'Drawbar', 'Final Masquerade', 'A Line In the Sand'], ['Nobody Can Save Me', 'Good Goodbye', 'Talking to Myself', 'Battle Symphony', 'Invisible', 'Heavy', 'Sorry for Now', 'Halfway Right', 'One More Light', 'Sharp Edges'], [12, 13, 12, 15, 12, 12, 10]]\n['Hybrid Theory', 'Meteora', 'Minutes to Midnight', 'A Thousand Suns', 'Living Things', 'The Hunting Party', 'One More Light', 'N_songs']\n['Papercut', 'One Step Closer', 'With You', 'Points of Authority', 'Crawling', 'Runaway', 'By Myself', 'In the End', 'A Place For My Head', 'Forgotten', 'Cure for the Itch', 'Pushing Me Away', 'Foreword', \"Don't Stay\", 'Somewhere I Belong', 'Lying from You', 'Hit the Floor', 'Easier to Run', 'Faint', 'Figure.09', 'Breaking the Habit', 'From the Inside', \"Nobody's Listening\", 'Session', 'Numb', 'Wake', 'Given Up', 'Leave Out All the Rest', 'Bleed it Out', 'Shadow of the Day', \"What I've Done\", 'Hands Held High', 'No More Sorrow', \"Valentine's Day\", 'In Between', 'In Pieces', 'The Little Things Give You Away', 'The Requiem', 'The Radiance', 'Burning in the Skies', 'Empty Spaces', 'When They Come for Me', 'Robot Boy', 'Jornada Del Muerto', 'Waiting for the End', 'Blackout', 'Wretches and Kings', 'Wisdom, Justice, and Love', 'Iridescent', 'Fallout', 'The Catalyst', 'The Messenger', 'Lost in the Echo', 'In My Remains', 'Burn It Down', 'Lies Greed Misery', \"I'll Be Gone\", 'Castle of Glass', 'Victimized', 'Roads Untraveled', 'Skin to Bone', 'Until It Breaks', 'Tinfoil', 'Powerless', 'Keys to the Kingdom', 'All for Nothing', 'Guilty All the Same', 'The Summoning', 'War', 'Wastelands', \"Until It's Gone\", 'Rebellion', 'Mark the Graves', 'Drawbar', 'Final Masquerade', 'A Line In the Sand', 'Nobody Can Save Me', 'Good Goodbye', 'Talking to Myself', 'Battle Symphony', 'Invisible', 'Heavy', 'Sorry for Now', 'Halfway Right', 'One More Light', 'Sharp Edges', 12, 13, 12, 15, 12, 12, 10]\n['Lying from You']\n['Lying from You', \"Nobody's Listening\"]\n['Lying from You', \"Nobody's Listening\", 'Numb']\n['Lying from You', \"Nobody's Listening\", 'Numb', 'Leave Out All the Rest']\n['Lying from You', \"Nobody's Listening\", 'Numb', 'Leave Out All the Rest', 'No More Sorrow']\n['Lying from You', \"Nobody's Listening\", 'Numb', 'Leave Out All the Rest', 'No More Sorrow', 'Lost in the Echo']\n['Lying from You', \"Nobody's Listening\", 'Numb', 'Leave Out All the Rest', 'No More Sorrow', 'Lost in the Echo', 'Lies Greed Misery']\n['Lying from You', \"Nobody's Listening\", 'Numb', 'Leave Out All the Rest', 'No More Sorrow', 'Lost in the Echo', 'Lies Greed Misery', 'Keys to the Kingdom']\n['Lying from You', \"Nobody's Listening\", 'Numb', 'Leave Out All the Rest', 'No More Sorrow', 'Lost in the Echo', 'Lies Greed Misery', 'Keys to the Kingdom', 'Nobody Can Save Me']\n"
     ]
    },
    {
     "output_type": "error",
     "ename": "TypeError",
     "evalue": "'int' object is not subscriptable",
     "traceback": [
      "\u001b[1;31m---------------------------------------------------------------------------\u001b[0m",
      "\u001b[1;31mTypeError\u001b[0m                                 Traceback (most recent call last)",
      "\u001b[1;32m<ipython-input-13-8c3d9934acff>\u001b[0m in \u001b[0;36m<module>\u001b[1;34m\u001b[0m\n\u001b[0;32m     22\u001b[0m \u001b[1;33m\u001b[0m\u001b[0m\n\u001b[0;32m     23\u001b[0m \u001b[1;32mfor\u001b[0m \u001b[0mword\u001b[0m \u001b[1;32min\u001b[0m \u001b[0mlnk_song\u001b[0m\u001b[1;33m:\u001b[0m\u001b[1;33m\u001b[0m\u001b[1;33m\u001b[0m\u001b[0m\n\u001b[1;32m---> 24\u001b[1;33m       \u001b[1;32mif\u001b[0m \u001b[0mword\u001b[0m\u001b[1;33m[\u001b[0m\u001b[1;36m0\u001b[0m\u001b[1;33m]\u001b[0m\u001b[1;33m==\u001b[0m\u001b[1;34m'L'\u001b[0m \u001b[1;32mor\u001b[0m \u001b[0mword\u001b[0m\u001b[1;33m[\u001b[0m\u001b[1;36m0\u001b[0m\u001b[1;33m]\u001b[0m\u001b[1;33m==\u001b[0m\u001b[1;34m'N'\u001b[0m \u001b[1;32mor\u001b[0m \u001b[0mword\u001b[0m\u001b[1;33m[\u001b[0m\u001b[1;36m0\u001b[0m\u001b[1;33m]\u001b[0m\u001b[1;33m==\u001b[0m\u001b[1;34m'K'\u001b[0m\u001b[1;33m:\u001b[0m\u001b[1;33m\u001b[0m\u001b[1;33m\u001b[0m\u001b[0m\n\u001b[0m\u001b[0;32m     25\u001b[0m             \u001b[0mlnk_songs\u001b[0m\u001b[1;33m.\u001b[0m\u001b[0mappend\u001b[0m\u001b[1;33m(\u001b[0m\u001b[0mword\u001b[0m\u001b[1;33m)\u001b[0m\u001b[1;33m\u001b[0m\u001b[1;33m\u001b[0m\u001b[0m\n\u001b[0;32m     26\u001b[0m             \u001b[0mprint\u001b[0m\u001b[1;33m(\u001b[0m\u001b[0mlnk_songs\u001b[0m\u001b[1;33m)\u001b[0m\u001b[1;33m\u001b[0m\u001b[1;33m\u001b[0m\u001b[0m\n",
      "\u001b[1;31mTypeError\u001b[0m: 'int' object is not subscriptable"
     ]
    }
   ],
   "source": [
    "# Answer to 4.1\n",
    "long_albums = ['Meteora', 'A Thousand Suns', 'Living Things']\n",
    "\n",
    "#Answer to 4.2\n",
    "linkin['N_songs'] = [12, 13, 12, 15, 12, 12, 10]\n",
    "linkin.keys()\n",
    "\n",
    "#Answer to 4.3\n",
    "lnk_song = []\n",
    "lnk_albums = []\n",
    "lnk_songs = []\n",
    "\n",
    "for key in linkin.keys():\n",
    "    lnk_albums.append(key)\n",
    "    lnk_song.append(linkin[key])\n",
    "print(lnk_song)\n",
    "print(lnk_albums)\n",
    "\n",
    "from pandas.core.common import flatten\n",
    "lnk_song = list(flatten(lnk_song))\n",
    "print(lnk_song)\n",
    "\n",
    "for word in lnk_song:\n",
    "      if word[0]=='L' or word[0]=='N' or word[0]=='K':\n",
    "            lnk_songs.append(word)\n",
    "            print(lnk_songs)\n",
    "          "
   ]
  },
  {
   "cell_type": "code",
   "execution_count": 14,
   "metadata": {},
   "outputs": [
    {
     "output_type": "execute_result",
     "data": {
      "text/plain": [
       "['Lying from You',\n",
       " \"Nobody's Listening\",\n",
       " 'Numb',\n",
       " 'Leave Out All the Rest',\n",
       " 'No More Sorrow',\n",
       " 'Lost in the Echo',\n",
       " 'Lies Greed Misery',\n",
       " 'Keys to the Kingdom',\n",
       " 'Nobody Can Save Me']"
      ]
     },
     "metadata": {},
     "execution_count": 14
    }
   ],
   "source": [
    "lnk_songs"
   ]
  },
  {
   "cell_type": "code",
   "execution_count": null,
   "metadata": {},
   "outputs": [],
   "source": [
    "# Answer to 4.4\n",
    "album_songs = []\n"
   ]
  },
  {
   "source": [
    "5. Go again through Exercise 2, but now create a function called div_3, that takes one argument n. The function will print all numbers between 1 and n that are divisible by 3. The function will return nothing"
   ],
   "cell_type": "markdown",
   "metadata": {}
  },
  {
   "cell_type": "code",
   "execution_count": 22,
   "metadata": {},
   "outputs": [
    {
     "output_type": "stream",
     "name": "stdout",
     "text": [
      "3\n6\n9\n"
     ]
    }
   ],
   "source": [
    "def div_3(n):\n",
    "    for i in range(1,n):\n",
    "        if i % 3 == 0:\n",
    "            print(i)\n",
    "            \n",
    "div_3(11)"
   ]
  },
  {
   "source": [
    "6. Create a recursive function that accepts one argument n, and it will return the factorial of n. (n!)"
   ],
   "cell_type": "markdown",
   "metadata": {}
  },
  {
   "cell_type": "code",
   "execution_count": 23,
   "metadata": {},
   "outputs": [],
   "source": [
    "def factorial(n):\n",
    "    if n == 0:\n",
    "        return 1\n",
    "    else:\n",
    "        return n * factorial(n-1)"
   ]
  },
  {
   "cell_type": "code",
   "execution_count": 28,
   "metadata": {},
   "outputs": [
    {
     "output_type": "execute_result",
     "data": {
      "text/plain": [
       "24"
      ]
     },
     "metadata": {},
     "execution_count": 28
    }
   ],
   "source": [
    "factorial(4)"
   ]
  },
  {
   "source": [
    "7. Create a function called bef_aft that accepts another function as an argument. bef_aft should print 'Hello there', run the function, print 'Goodbye!'. Use this dummy function to test it."
   ],
   "cell_type": "markdown",
   "metadata": {}
  },
  {
   "cell_type": "code",
   "execution_count": 29,
   "metadata": {},
   "outputs": [],
   "source": [
    "def dummy_fun():\n",
    "    print('Ignore me, I am just passing by')"
   ]
  },
  {
   "cell_type": "code",
   "execution_count": 33,
   "metadata": {},
   "outputs": [],
   "source": [
    "def bef_aft(dummy_fun):\n",
    "    print(\"Hello there\")\n",
    "    dummy_fun()\n",
    "    print(\"Goodbye!\")\n"
   ]
  },
  {
   "cell_type": "code",
   "execution_count": 34,
   "metadata": {},
   "outputs": [
    {
     "output_type": "stream",
     "name": "stdout",
     "text": [
      "Hello there\nIgnore me, I am just passing by\nGoodbye!\n"
     ]
    }
   ],
   "source": [
    "bef_aft(dummy_fun)"
   ]
  },
  {
   "cell_type": "code",
   "execution_count": null,
   "metadata": {},
   "outputs": [],
   "source": []
  }
 ]
}