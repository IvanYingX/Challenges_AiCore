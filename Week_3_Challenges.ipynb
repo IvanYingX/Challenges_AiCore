{
 "cells": [
  {
   "cell_type": "markdown",
   "metadata": {},
   "source": [
    "### 1. Use a SINGLE print statement to print 'Frodo Sam Pippin Merry Gandalf Legolas Gimli Aragorn Boromir' each name in a separate line (9 lines in total)"
   ]
  },
  {
   "cell_type": "code",
   "execution_count": 1,
   "metadata": {},
   "outputs": [
    {
     "output_type": "stream",
     "name": "stdout",
     "text": [
      "Frodo \nSam \nPippin \nMerry \nGandalf \nLegolas \nGimli \nAragon \nBoromir\n"
     ]
    }
   ],
   "source": [
    "print('Frodo \\nSam \\nPippin \\nMerry \\nGandalf \\nLegolas \\nGimli \\nAragon \\nBoromir')"
   ]
  },
  {
   "cell_type": "markdown",
   "metadata": {},
   "source": [
    "### 2. Ask for the name of the user using the input function. Then print 'Hello {name}'"
   ]
  },
  {
   "cell_type": "code",
   "execution_count": 10,
   "metadata": {},
   "outputs": [
    {
     "output_type": "stream",
     "name": "stdout",
     "text": [
      "Hello Marianna\n"
     ]
    }
   ],
   "source": [
    "name = input('What is your name?')\n",
    "print(f'Hello {name}')"
   ]
  },
  {
   "cell_type": "markdown",
   "metadata": {},
   "source": [
    "### 3. Ask for two numbers using the input function. Use the print function to show the product of both numbers"
   ]
  },
  {
   "cell_type": "code",
   "execution_count": 5,
   "metadata": {},
   "outputs": [
    {
     "output_type": "stream",
     "name": "stdout",
     "text": [
      "6\n"
     ]
    }
   ],
   "source": [
    "x = input(\"Enter a value:\")\n",
    "y = input(\"Enter a value: \")\n",
    "x = int(x)\n",
    "y = int(y)\n",
    "print(x*y)"
   ]
  },
  {
   "cell_type": "markdown",
   "metadata": {},
   "source": []
  },
  {
   "cell_type": "markdown",
   "metadata": {},
   "source": [
    "## For the next exercises you don't have to run anything, just write (or discuss) the answer"
   ]
  },
  {
   "cell_type": "markdown",
   "metadata": {},
   "source": [
    "### 4. The following code runs fine, but there are problems in the coding style. Can you spot at least four? (There are seven in total)"
   ]
  },
  {
   "cell_type": "code",
   "execution_count": null,
   "metadata": {},
   "outputs": [],
   "source": [
    "#Exercise 4\n",
    "\n",
    "class Challenge:\n",
    "    def __init__(self, name='4'):\n",
    "        pass\n",
    "    def challenge_function():\n",
    "        print('This is a challenge!')\n",
    "\n",
    "Test = challenge()\n",
    "\n"
   ]
  },
  {
   "cell_type": "markdown",
   "metadata": {},
   "source": [
    "### 5. Correct the syntax so the following code runs. While you are at it, make the appropriate changes to have a good coding style"
   ]
  },
  {
   "cell_type": "markdown",
   "metadata": {},
   "source": [
    "favourite_animal = 'Platypus'\n",
    "\n",
    "laziest_animal = 'Koala'\n",
    "\n",
    "slowest_animal = 'Sloth'\n",
    "\n",
    "desert_animal = 'Camel'"
   ]
  },
  {
   "cell_type": "markdown",
   "metadata": {},
   "source": [
    "### 6. Which of the following are valid Variable names? (Regarding both Python validity and style)\n",
    "\n",
    "a) myBestScore\n",
    "\n",
    "b) Name\n",
    "\n",
    "c) 1stClass\n",
    "\n",
    "d) cost_of_meal\n",
    "\n",
    "e) print84\n",
    "\n",
    "f) A-1\n",
    "\n",
    "g) hello_world"
   ]
  },
  {
   "cell_type": "markdown",
   "metadata": {},
   "source": [
    "### 7. Python doesn't allow to define constants, but is a good practice to use uppercase letters for variables that we know shouldn't change (PI, SPEED_OF_LIGHT). Which of the following variables should be uppercase?\n",
    "\n",
    "a) max_lives = 3\n",
    "\n",
    "b) lives_remaining = 2\n",
    "\n",
    "c) city_population = 354037\n",
    "\n",
    "d) gravity = 9.8 # m s-2 "
   ]
  },
  {
   "cell_type": "markdown",
   "metadata": {},
   "source": [
    "## We go back to run code. Let's get our hands dirty again"
   ]
  },
  {
   "cell_type": "markdown",
   "metadata": {},
   "source": [
    "### 7. Complete the following code to print how many books each child will receive and how many will be left over"
   ]
  },
  {
   "cell_type": "code",
   "execution_count": 9,
   "metadata": {},
   "outputs": [
    {
     "output_type": "stream",
     "name": "stdout",
     "text": [
      "Books per child: 3\nBooks remaining: 131\n"
     ]
    }
   ],
   "source": [
    "#Program name: Challenge 17 Divide books among children completed\n",
    "\n",
    "books = 650\n",
    "children = 173\n",
    "books_per_child = books//children\n",
    "books_left_over = books-(books_per_child)*children\n",
    "\n",
    "\n",
    "print(f\"Books per child: {books_per_child}\")\n",
    "print(f\"Books remaining: {books_left_over}\", )"
   ]
  },
  {
   "cell_type": "markdown",
   "metadata": {},
   "source": [
    "### 8. Ask for two numbers using the input function to calculate the division and the remainder. It should print '{number_1} divided by {number_2} = {result_1} and the remainder is {result_2}'"
   ]
  },
  {
   "cell_type": "code",
   "execution_count": null,
   "metadata": {},
   "outputs": [],
   "source": []
  },
  {
   "cell_type": "markdown",
   "metadata": {},
   "source": [
    "### 9. Ask for two numbers using the input function to calculate the result of number_1 to the power of number_2. Then print '{number_1} to the power of {number_2} = {result_1}'"
   ]
  },
  {
   "cell_type": "code",
   "execution_count": null,
   "metadata": {},
   "outputs": [],
   "source": []
  },
  {
   "cell_type": "markdown",
   "metadata": {},
   "source": [
    "### 10. Ask for one number using the input function to calculate the square root of it. It should print '{number_1} to the power of {number_2} = {result_1}'"
   ]
  },
  {
   "cell_type": "code",
   "execution_count": null,
   "metadata": {},
   "outputs": [],
   "source": []
  },
  {
   "cell_type": "markdown",
   "metadata": {},
   "source": [
    "### 11. The formula for converting Fahrenheit to Celsius is: C = (F - 32) * 5 / 9. Create a function that takes f and returns c"
   ]
  },
  {
   "cell_type": "code",
   "execution_count": null,
   "metadata": {},
   "outputs": [],
   "source": []
  },
  {
   "cell_type": "markdown",
   "metadata": {},
   "source": [
    "### 12. Ask for two inputs to the user, one name and one number. Multiply the number by 2 and concatenate the result to the name. For example, if you enter 'Ivan' and '21', it should print 'Ivan42'"
   ]
  },
  {
   "cell_type": "code",
   "execution_count": null,
   "metadata": {},
   "outputs": [],
   "source": []
  },
  {
   "cell_type": "markdown",
   "metadata": {},
   "source": [
    "### 13. Ask for two numbers using the input function. Compare them and print the result. So for example if you enter '1' and '5', then print '1 is greater than 5 : False'. On the other hand, if you enter '5' and '1', print '5 is greater than 1 : True'"
   ]
  },
  {
   "cell_type": "markdown",
   "metadata": {},
   "source": []
  },
  {
   "cell_type": "markdown",
   "metadata": {},
   "source": [
    "### 14 A [XOR gate](https://en.wikipedia.org/wiki/XOR_gate) is a digital logic gate that gives a true (1 or HIGH) output when the number of true inputs is odd\n",
    "|A|B|Output|\n",
    "|--|--|--|\n",
    "|0|0|0|\n",
    "|0|1|0|\n",
    "|1|0|1|\n",
    "|1|1|0|\n",
    "\n",
    "![XOR gate](./images/XOR.png)\n",
    "\n",
    "\n",
    "**You can build it using an AND gate whose inputs are the output of a NAND gate and the output of an OR gate**\n",
    "**If `a = True` and `b = False`**\n",
    "**Use logical operators to:**\n",
    "### 14.a) Check the output of an OR logic gate and store the value in C\n"
   ]
  },
  {
   "cell_type": "code",
   "execution_count": null,
   "metadata": {},
   "outputs": [],
   "source": []
  },
  {
   "cell_type": "markdown",
   "metadata": {},
   "source": [
    "\n",
    "### 14.b) Check the output of an AND logic gate and store the value in D\n"
   ]
  },
  {
   "cell_type": "code",
   "execution_count": null,
   "metadata": {},
   "outputs": [],
   "source": []
  },
  {
   "cell_type": "markdown",
   "metadata": {},
   "source": [
    "### 14.c) *Negate* the value of D and store the value in D_not\n"
   ]
  },
  {
   "cell_type": "code",
   "execution_count": null,
   "metadata": {},
   "outputs": [],
   "source": []
  },
  {
   "cell_type": "markdown",
   "metadata": {},
   "source": [
    "### 14.d) Check the output of an AND gate when the inputs are C and D_not\n"
   ]
  },
  {
   "cell_type": "code",
   "execution_count": null,
   "metadata": {},
   "outputs": [],
   "source": []
  },
  {
   "cell_type": "markdown",
   "metadata": {},
   "source": [
    "### 14.e) Can you do all the steps in one line?"
   ]
  },
  {
   "cell_type": "code",
   "execution_count": null,
   "metadata": {},
   "outputs": [],
   "source": []
  },
  {
   "cell_type": "markdown",
   "metadata": {},
   "source": [
    "### 15. This program asks three quiz questions, and scores the answers. Correct answers are: hummingbird, False, bullfrog. Each correct answer scores 1. Finally, if the score is 3 print \"Well done!\", if the score is 2 print \"Pretty good\", if the score is 1, print \"More nature study required...\", if it's 0, print \"Ooops...\""
   ]
  },
  {
   "cell_type": "code",
   "execution_count": null,
   "metadata": {},
   "outputs": [],
   "source": [
    "# Initialize Score\n",
    "\n",
    "print(\"Answer each of the following three questions:\")\n",
    "answer = input(\"\\nWhich is the only bird that can fly backwards? \\n\\\n",
    "(a) Hummingbird, (b) Swift, (c) Flamingo? \")\n",
    "\n",
    "# Correct answer is a\n",
    "### YOUR CODE HERE ###\n",
    "\n",
    "answer = input(\"\\nYou can get warts from touching a toad - \\n\\\n",
    "True (T) or False (F)? \")\n",
    "\n",
    "# Correct answer is F\n",
    "### YOUR CODE HERE ###\n",
    "\n",
    "\n",
    "answer = input(\"\\nWhich animal never sleeps? \\n\\\n",
    "(a) bullfrog  (b) whale  (c) butterfly  \")\n",
    "\n",
    "# Correct answer is a\n",
    "### YOUR CODE HERE ###\n",
    "\n",
    "# Print the score and the message corresponding to the score\n"
   ]
  },
  {
   "cell_type": "markdown",
   "metadata": {},
   "source": [
    "### 16. The code in exercise 15 doesn't take into account wrong inputs (d, e, or a number). Modify the code so it ask for an input until it is a valid input (a, A, b, B, c or C) for each of the questions"
   ]
  },
  {
   "cell_type": "code",
   "execution_count": null,
   "metadata": {},
   "outputs": [],
   "source": []
  },
  {
   "cell_type": "markdown",
   "metadata": {},
   "source": [
    "### 17. Complete the following code. Ask for an input, it has to be 1, 2 or 3.\n",
    "\n",
    "    1 prints 'Option 1 selected, balance printed'. \n",
    "    2 prints 'Option 2 selected: mini statement printed'\n",
    "    3 asks for an amount. This amount has to be 20, 50 or 100. It won't stop until you enter a correct amount"
   ]
  },
  {
   "cell_type": "code",
   "execution_count": 19,
   "metadata": {
    "tags": []
   },
   "outputs": [
    {
     "output_type": "stream",
     "name": "stdout",
     "text": [
      "1. Balance enquiry\n2. Mini statement\n3. Fast cash\n\nPlease select a transaction\n"
     ]
    }
   ],
   "source": [
    "# program simulates selecting \"Fast cash\" at ATM\n",
    "print(\"1. Balance enquiry\")\n",
    "print(\"2. Mini statement\")\n",
    "print(\"3. Fast cash\\n\")\n",
    "print(\"Please select a transaction\")\n",
    "\n",
    "option = int(input(\"Select Option:\"))\n",
    "\n",
    "if option == 1:\n",
    "    print(\"Option 1 selected: Balance printed\")\n",
    "elif option == 2:\n",
    "    print(\"Option 2 selected: Mini statement printed\")\n",
    "else:\n",
    "    amount = int(input(\"Amount:\"))\n",
    "    while amount != 20 or amount != 50 or amount != 100:\n",
    "        if amount == 20 or amount == 50 or amount == 100:\n",
    "            break\n",
    "        amount = int(input(\"Amount:\"))\n",
    "\n",
    "        \n"
   ]
  },
  {
   "cell_type": "markdown",
   "metadata": {},
   "source": [
    "### 18. Write a program to display the times tables 1 to 10, displaying each table in the format:\n",
    "1 x 1 = 1\n",
    "\n",
    "1 x 2 = 2"
   ]
  },
  {
   "cell_type": "code",
   "execution_count": 27,
   "metadata": {},
   "outputs": [
    {
     "output_type": "stream",
     "name": "stdout",
     "text": [
      "0 x 0 = 0 \n\n0 x 1 = 0 \n\n0 x 2 = 0 \n\n0 x 3 = 0 \n\n0 x 4 = 0 \n\n0 x 5 = 0 \n\n0 x 6 = 0 \n\n0 x 7 = 0 \n\n0 x 8 = 0 \n\n0 x 9 = 0 \n\n0 x 10 = 0 \n\n1 x 0 = 0 \n\n1 x 1 = 1 \n\n1 x 2 = 2 \n\n1 x 3 = 3 \n\n1 x 4 = 4 \n\n1 x 5 = 5 \n\n1 x 6 = 6 \n\n1 x 7 = 7 \n\n1 x 8 = 8 \n\n1 x 9 = 9 \n\n1 x 10 = 10 \n\n2 x 0 = 0 \n\n2 x 1 = 2 \n\n2 x 2 = 4 \n\n2 x 3 = 6 \n\n2 x 4 = 8 \n\n2 x 5 = 10 \n\n2 x 6 = 12 \n\n2 x 7 = 14 \n\n2 x 8 = 16 \n\n2 x 9 = 18 \n\n2 x 10 = 20 \n\n3 x 0 = 0 \n\n3 x 1 = 3 \n\n3 x 2 = 6 \n\n3 x 3 = 9 \n\n3 x 4 = 12 \n\n3 x 5 = 15 \n\n3 x 6 = 18 \n\n3 x 7 = 21 \n\n3 x 8 = 24 \n\n3 x 9 = 27 \n\n3 x 10 = 30 \n\n4 x 0 = 0 \n\n4 x 1 = 4 \n\n4 x 2 = 8 \n\n4 x 3 = 12 \n\n4 x 4 = 16 \n\n4 x 5 = 20 \n\n4 x 6 = 24 \n\n4 x 7 = 28 \n\n4 x 8 = 32 \n\n4 x 9 = 36 \n\n4 x 10 = 40 \n\n5 x 0 = 0 \n\n5 x 1 = 5 \n\n5 x 2 = 10 \n\n5 x 3 = 15 \n\n5 x 4 = 20 \n\n5 x 5 = 25 \n\n5 x 6 = 30 \n\n5 x 7 = 35 \n\n5 x 8 = 40 \n\n5 x 9 = 45 \n\n5 x 10 = 50 \n\n6 x 0 = 0 \n\n6 x 1 = 6 \n\n6 x 2 = 12 \n\n6 x 3 = 18 \n\n6 x 4 = 24 \n\n6 x 5 = 30 \n\n6 x 6 = 36 \n\n6 x 7 = 42 \n\n6 x 8 = 48 \n\n6 x 9 = 54 \n\n6 x 10 = 60 \n\n7 x 0 = 0 \n\n7 x 1 = 7 \n\n7 x 2 = 14 \n\n7 x 3 = 21 \n\n7 x 4 = 28 \n\n7 x 5 = 35 \n\n7 x 6 = 42 \n\n7 x 7 = 49 \n\n7 x 8 = 56 \n\n7 x 9 = 63 \n\n7 x 10 = 70 \n\n8 x 0 = 0 \n\n8 x 1 = 8 \n\n8 x 2 = 16 \n\n8 x 3 = 24 \n\n8 x 4 = 32 \n\n8 x 5 = 40 \n\n8 x 6 = 48 \n\n8 x 7 = 56 \n\n8 x 8 = 64 \n\n8 x 9 = 72 \n\n8 x 10 = 80 \n\n9 x 0 = 0 \n\n9 x 1 = 9 \n\n9 x 2 = 18 \n\n9 x 3 = 27 \n\n9 x 4 = 36 \n\n9 x 5 = 45 \n\n9 x 6 = 54 \n\n9 x 7 = 63 \n\n9 x 8 = 72 \n\n9 x 9 = 81 \n\n9 x 10 = 90 \n\n10 x 0 = 0 \n\n10 x 1 = 10 \n\n10 x 2 = 20 \n\n10 x 3 = 30 \n\n10 x 4 = 40 \n\n10 x 5 = 50 \n\n10 x 6 = 60 \n\n10 x 7 = 70 \n\n10 x 8 = 80 \n\n10 x 9 = 90 \n\n10 x 10 = 100 \n\n"
     ]
    }
   ],
   "source": [
    "for i in range(11):\n",
    "    for j in range(11):\n",
    "        result = i*j\n",
    "        print(i, \"x\", j, \"=\", result, \"\\n\")"
   ]
  },
  {
   "cell_type": "markdown",
   "metadata": {},
   "source": [
    "### 18. Using for loops print 10 lines, where each line contains the same the corresponding number of *. Thus, the first line has 1 *, the second line contains 2 *. The output should be:\n",
    "\n",
    "    *\n",
    "    **\n",
    "    ***\n",
    "    ****\n",
    "    *****\n",
    "    ******\n",
    "    ..."
   ]
  },
  {
   "cell_type": "code",
   "execution_count": 28,
   "metadata": {},
   "outputs": [
    {
     "output_type": "stream",
     "name": "stdout",
     "text": [
      "*\n**\n***\n****\n*****\n******\n*******\n********\n*********\n**********\n"
     ]
    }
   ],
   "source": [
    "for i in range(1, 11):\n",
    "    print(i*\"*\")"
   ]
  },
  {
   "cell_type": "markdown",
   "metadata": {},
   "source": [
    "### 19. Write a program to count from 0 to 100 in 5s and print them all in one line. The output should look like:\n",
    "    0 5 10 15 20 25"
   ]
  },
  {
   "cell_type": "code",
   "execution_count": 33,
   "metadata": {},
   "outputs": [
    {
     "output_type": "stream",
     "name": "stdout",
     "text": [
      "0 5 10 15 20 25 30 35 40 45 50 55 60 65 70 75 80 85 90 95 100 "
     ]
    }
   ],
   "source": [
    "for i in range(0, 105, 5):\n",
    "    print(i, end=' ')"
   ]
  },
  {
   "cell_type": "markdown",
   "metadata": {},
   "source": [
    "### 20. Write a program to ask the user to input two integers a and b, where a < b. Print all the numbers between a and b inclusive that are divisible by 4"
   ]
  },
  {
   "cell_type": "code",
   "execution_count": 38,
   "metadata": {},
   "outputs": [
    {
     "output_type": "stream",
     "name": "stdout",
     "text": [
      "20\n24\n28\n"
     ]
    }
   ],
   "source": [
    "a, b = [int(x) for x in input(\"Enter two values: \").split()]\n",
    "if a < b:\n",
    "    for i in range(a, b):\n",
    "        if i % 4 ==0:\n",
    "            print(i)\n",
    "else:\n",
    "    a, b = [int(x) for x in input(\"Enter two values: \").split()]\n"
   ]
  },
  {
   "cell_type": "markdown",
   "metadata": {},
   "source": [
    "### 20. Create a program that asks the user to enter a number between 1 and 10. If the number is not in this range, keep printing a warning message and asking the user to re-enter the number. Then keep doubling this number until the result is 100000 or more. Print the final result and the number of times the number was doubled"
   ]
  },
  {
   "cell_type": "code",
   "execution_count": 51,
   "metadata": {},
   "outputs": [
    {
     "output_type": "stream",
     "name": "stdout",
     "text": [
      "163840\n15\n"
     ]
    }
   ],
   "source": [
    "number = int(input(\"Enter number: \"))\n",
    "\n",
    "while number not in range(0, 11):\n",
    "    if number in range(0, 11):\n",
    "        break\n",
    "    number = int(input(\"Enter number: \"))\n",
    "   \n",
    "res = number\n",
    "reps = 0\n",
    "\n",
    "while res <= 100000:\n",
    "    res = res*2\n",
    "    reps += 1\n",
    "print(res)\n",
    "print(reps)\n",
    "\n",
    "\n"
   ]
  },
  {
   "cell_type": "markdown",
   "metadata": {},
   "source": [
    "### 21. You have two lists, one list contains the names of eight planets, and the second list contains the size of the planets in percentages relatice to the Earth. You have to print, for each planet something like this:\n",
    "    Jupiter is 1120% the size of Earth"
   ]
  },
  {
   "cell_type": "code",
   "execution_count": 2,
   "metadata": {},
   "outputs": [
    {
     "output_type": "stream",
     "name": "stdout",
     "text": [
      "Jupiter is 1120% the size of the Earth\nSaturn is 945% the size of the Earth\nUranus is 400% the size of the Earth\nNeptune is 390% the size of the Earth\nVenus is 95% the size of the Earth\nMars is 53% the size of the Earth\nMercury is 38% the size of the Earth\nEarth is 100% the size of the Earth\n"
     ]
    }
   ],
   "source": [
    "planet = [\"Jupiter\", \"Saturn\", \"Uranus\",\n",
    "          \"Neptune\", \"Venus\", \"Mars\", \"Mercury\", \"Earth\"]\n",
    "size = [1120, 945, 400, 390, 95, 53, 38, 100]\n",
    "\n",
    "for k in range(8):\n",
    "    print(f\"{planet[k]} is {size[k]}% the size of the Earth\")"
   ]
  },
  {
   "cell_type": "markdown",
   "metadata": {},
   "source": [
    "### 22. zip planet and size and cast the output into a dictionary. Recreate the same output as 21 using this dictionary"
   ]
  },
  {
   "cell_type": "code",
   "execution_count": 5,
   "metadata": {},
   "outputs": [
    {
     "output_type": "stream",
     "name": "stdout",
     "text": [
      "[('Jupiter', 1120), ('Saturn', 945), ('Uranus', 400), ('Neptune', 390), ('Venus', 95), ('Mars', 53), ('Mercury', 38), ('Earth', 100)]\n{'Jupiter': 1120, 'Saturn': 945, 'Uranus': 400, 'Neptune': 390, 'Venus': 95, 'Mars': 53, 'Mercury': 38, 'Earth': 100}\nJupiter is 1120 % the size of the Earth\nSaturn is 945 % the size of the Earth\nUranus is 400 % the size of the Earth\nNeptune is 390 % the size of the Earth\nVenus is 95 % the size of the Earth\nMars is 53 % the size of the Earth\nMercury is 38 % the size of the Earth\nEarth is 100 % the size of the Earth\n"
     ]
    }
   ],
   "source": [
    "zipped = list(zip(planet, size))\n",
    "print(zipped)\n",
    "\n",
    "skystuff = dict(zipped)\n",
    "print(skystuff)\n",
    "\n",
    "skystuff.keys()\n",
    "\n",
    "for k, v in skystuff.items():\n",
    "        print(\"{0} is {1} % the size of the Earth\".format(k, v))"
   ]
  },
  {
   "cell_type": "markdown",
   "metadata": {},
   "source": [
    "### 23. Use the list planet to find the index of each of the following planets:\n",
    "    'Jupiter', 'Mars', 'Earth'\n",
    "### store the indices in a list named planet_idx, and use this list to see create a new list where each item is the relative size of the planet with respect to the Earth."
   ]
  },
  {
   "cell_type": "code",
   "execution_count": 30,
   "metadata": {},
   "outputs": [
    {
     "output_type": "stream",
     "name": "stdout",
     "text": [
      "[0, 5, 7]\n"
     ]
    }
   ],
   "source": [
    "planet = [\"Jupiter\", \"Saturn\", \"Uranus\",\n",
    "          \"Neptune\", \"Venus\", \"Mars\", \"Mercury\", \"Earth\"]\n",
    "planet_idx = [i for i, n in enumerate(planet) if n == \"Jupiter\" or n == \"Mars\" or n == \"Earth\"]\n",
    "print(planet_idx)"
   ]
  },
  {
   "cell_type": "code",
   "execution_count": 49,
   "metadata": {},
   "outputs": [
    {
     "output_type": "stream",
     "name": "stdout",
     "text": [
      "[11.200000000000001, 9.450000000000001, 4.0, 3.9, 0.9500000000000001, 0.53, 0.38, 1.0]\n"
     ]
    }
   ],
   "source": [
    "size = [1120, 945, 400, 390, 95, 53, 38, 100]\n",
    "relative_size = []\n",
    "for i in range(len(size)):\n",
    "    relative_size.append(0.01*size[i])\n",
    "\n",
    "print(relative_size)"
   ]
  },
  {
   "cell_type": "markdown",
   "metadata": {},
   "source": [
    "### 24. Write a program which prints the names of the largest and the smallest planets in the list described in exercise "
   ]
  },
  {
   "cell_type": "code",
   "execution_count": 59,
   "metadata": {},
   "outputs": [
    {
     "output_type": "stream",
     "name": "stdout",
     "text": [
      "[('Jupiter', 11.200000000000001), ('Saturn', 9.450000000000001), ('Uranus', 4.0), ('Neptune', 3.9), ('Venus', 0.9500000000000001), ('Mars', 0.53), ('Mercury', 0.38), ('Earth', 1.0)]\n{'Jupiter': 11.200000000000001, 'Saturn': 9.450000000000001, 'Uranus': 4.0, 'Neptune': 3.9, 'Venus': 0.9500000000000001, 'Mars': 0.53, 'Mercury': 0.38, 'Earth': 1.0}\nJupiter, 11.200000000000001\nMercury, 0.38\n"
     ]
    }
   ],
   "source": [
    "zipped_2 = list(zip(planet, relative_size))\n",
    "print(zipped_2)\n",
    "\n",
    "skystuff_2 = dict(zipped_2)\n",
    "print(skystuff_2)\n",
    "\n",
    "for k, v in skystuff_2.items():\n",
    "        if v == max(skystuff_2.values()):\n",
    "            print(\"{0}, {1}\".format(k, v))\n",
    "        if v == min(skystuff_2.values()):\n",
    "            print(\"{0}, {1}\".format(k, v))"
   ]
  },
  {
   "cell_type": "markdown",
   "metadata": {},
   "source": [
    "### 25. Five skaters are awarded scores by 3 different judges. Each list corresponds to a skater: \"Amber\", \"Cindy\", \"Valentina\", \"Isabella\", \"Terri\". Calculate the mean score of each skater and print the name of the winner\n"
   ]
  },
  {
   "cell_type": "code",
   "execution_count": 60,
   "metadata": {},
   "outputs": [],
   "source": [
    "score = [ [75, 59, 63],  \n",
    "          [88, 91, 94],  \n",
    "          [78, 81, 84],\n",
    "          [65, 69, 73],\n",
    "          [90, 84, 69]]\n",
    "\n",
    "names = [\"Amber\", \"Cindy\", \"Valentina\", \"Isabella\", \"Terri\"]"
   ]
  },
  {
   "cell_type": "code",
   "execution_count": 63,
   "metadata": {},
   "outputs": [
    {
     "output_type": "stream",
     "name": "stdout",
     "text": [
      "[65.66666666666667, 91.0, 81.0, 69.0, 81.0]\n[('Amber', 65.66666666666667), ('Cindy', 91.0), ('Valentina', 81.0), ('Isabella', 69.0), ('Terri', 81.0)]\n[('Amber', 65.66666666666667), ('Cindy', 91.0), ('Valentina', 81.0), ('Isabella', 69.0), ('Terri', 81.0)]\nCindy, 91.0\n"
     ]
    }
   ],
   "source": [
    "mean_score = []\n",
    "\n",
    "for i in range(len(score)):\n",
    "    mean_score.append((score[i][0]+score[i][1]+score[i][2])/3)\n",
    "\n",
    "print(mean_score)\n",
    "\n",
    "skaters = list(zip(names, mean_score))\n",
    "print(skaters)\n",
    "\n",
    "skaters_score = dict(skaters)\n",
    "print(skaters)\n",
    "\n",
    "for k, v in skaters_score.items():\n",
    "        if v == max(skaters_score.values()):\n",
    "            print(\"{0}, {1}\".format(k, v))\n",
    "    "
   ]
  },
  {
   "cell_type": "markdown",
   "metadata": {},
   "source": [
    "### 26. Create a dictionary whose keys are integers from 1 to 6, and the values are the corresponding key multiplied by ten. Name the dictionary *dict_1*"
   ]
  },
  {
   "cell_type": "code",
   "execution_count": 64,
   "metadata": {},
   "outputs": [],
   "source": [
    "dict_1 = {'1':10, '2':20, '3':30, '4':40, '5':50, '6':60}"
   ]
  },
  {
   "cell_type": "markdown",
   "metadata": {},
   "source": [
    "### 27. Create a dictionary whose only key is '_foo_',  and whose value is an empty list. Name the dictionary *dict_2*"
   ]
  },
  {
   "cell_type": "code",
   "execution_count": 71,
   "metadata": {},
   "outputs": [],
   "source": [
    "dict_2 = {'foo': []}"
   ]
  },
  {
   "cell_type": "markdown",
   "metadata": {},
   "source": [
    "### 28. Access the lists corresponding to '_foo_' in *dict_2* and *append*, the following strings: _'Hello there...'_ and _'General Kenobi,'_"
   ]
  },
  {
   "cell_type": "code",
   "execution_count": 72,
   "metadata": {},
   "outputs": [
    {
     "output_type": "execute_result",
     "data": {
      "text/plain": [
       "{'foo': ['Hello there...', 'General Kenobi']}"
      ]
     },
     "metadata": {},
     "execution_count": 72
    }
   ],
   "source": [
    "dict_2['foo'].append('Hello there...')\n",
    "dict_2['foo'].append('General Kenobi')\n",
    "dict_2"
   ]
  },
  {
   "cell_type": "markdown",
   "metadata": {},
   "source": [
    "### 29.  Add the key _'bar'_ to *dict_2* and assign the value _'You are a bold one'_"
   ]
  },
  {
   "cell_type": "code",
   "execution_count": 84,
   "metadata": {},
   "outputs": [
    {
     "output_type": "execute_result",
     "data": {
      "text/plain": [
       "{'foo': ['Hello there...', 'General Kenobi'], 'bar': 'You are a bold one'}"
      ]
     },
     "metadata": {},
     "execution_count": 84
    }
   ],
   "source": [
    "dict_2['bar'] = 'You are a bold one'\n",
    "dict_2"
   ]
  },
  {
   "cell_type": "markdown",
   "metadata": {},
   "source": []
  },
  {
   "cell_type": "markdown",
   "metadata": {},
   "source": [
    "### 30. Print all the *values* in *dict_2* as a single string\n"
   ]
  },
  {
   "cell_type": "code",
   "execution_count": 83,
   "metadata": {},
   "outputs": [
    {
     "output_type": "stream",
     "name": "stdout",
     "text": [
      "['Hello there...', 'General Kenobi'],You are a bold one\n"
     ]
    }
   ],
   "source": []
  },
  {
   "cell_type": "markdown",
   "metadata": {},
   "source": [
    "### 31. You have the following lists: \n",
    "    \n",
    "    Ash = ['Pikachu', 'Squirtle', 'Bulbasaur', 'Charizard', 'Snorlax', 'Pidgeot']\n",
    "    Gary = ['Eevee', 'Blastoise', 'Pidgeot', 'Lapras', 'Snorlax', 'Pidgeot']"
   ]
  },
  {
   "cell_type": "markdown",
   "metadata": {},
   "source": [
    "### 31.a) Create a set of all the Pokemon owned by both trainers\n",
    "### 31.b) Create a set of the common Pokemon owned by each trainer\n",
    "### 31.c) Create a set of the Pokemon owned by Gary and not by Ash \n",
    "### 31.d) Create a set of the Pokemon owned by Gary and by Ash but not by both"
   ]
  },
  {
   "cell_type": "code",
   "execution_count": null,
   "metadata": {},
   "outputs": [],
   "source": []
  },
  {
   "cell_type": "markdown",
   "metadata": {},
   "source": [
    "### 32. Create a function that takes an integer and *returns* a string containing the same integer. If the function is named `to_str`, then `to_str(5)` returns `'5'`"
   ]
  },
  {
   "cell_type": "code",
   "execution_count": null,
   "metadata": {},
   "outputs": [],
   "source": []
  },
  {
   "cell_type": "markdown",
   "metadata": {},
   "source": [
    "### 33. Print the keys of *dict_1* (exercise 26). What's its type? Cast it to a list and store it as *keys_1*"
   ]
  },
  {
   "cell_type": "markdown",
   "metadata": {},
   "source": []
  },
  {
   "cell_type": "markdown",
   "metadata": {},
   "source": [
    "### 34. Print the values of *dict_1*. What's its type? Cast it to a list and store it as *vals_1*\n"
   ]
  },
  {
   "cell_type": "code",
   "execution_count": null,
   "metadata": {},
   "outputs": [],
   "source": []
  },
  {
   "cell_type": "markdown",
   "metadata": {},
   "source": [
    "### 35. Concatenate the following dictionaries to create a new one. Name the new dictionary animals _Use .update() OR **kwargs_\n",
    "    d_1={1: 'Alligator', 2: 'Bee'}  \n",
    "    d_2={3: 'Crocodile', 4: 'Dodo'}  \n",
    "    d_3={5: 'Elephant', 6: 'Fox'}"
   ]
  },
  {
   "cell_type": "code",
   "execution_count": null,
   "metadata": {},
   "outputs": [],
   "source": []
  },
  {
   "cell_type": "markdown",
   "metadata": {},
   "source": [
    "### 36. Use a comprehension list to store the length of each *value* of *dict_2* "
   ]
  },
  {
   "cell_type": "code",
   "execution_count": null,
   "metadata": {},
   "outputs": [],
   "source": []
  },
  {
   "cell_type": "markdown",
   "metadata": {},
   "source": [
    "### 37. Use a comprehension list to store the values of *dict_2* only if the length of the string is greater than 6"
   ]
  },
  {
   "cell_type": "code",
   "execution_count": null,
   "metadata": {},
   "outputs": [],
   "source": []
  },
  {
   "cell_type": "markdown",
   "metadata": {},
   "source": [
    "### 38. FizzBuzz\n",
    "[FizzBuzz](https://en.wikipedia.org/wiki/Fizz_buzz) is a classic interview question that consists on counting to a determined number, and replace numbers divisible by three with the word _\"Fizz\"_, numbers divisible by five with the word _\"Buzz\"_, and numbers divisible by fifteen with _'FizzBuzz'_. Create a function that accepts any integer _n_, and prints the count to _n_ applying the rules of FizzBuzz. For example:\n",
    "```\n",
    "def fizzbuzz(n: int) -> None:\n",
    "    ### Your Code Here ###\n",
    "fizzbuzz(15)\n",
    "```\n",
    "Should *print*:\n",
    "```\n",
    "1\n",
    "2\n",
    "Fizz\n",
    "4\n",
    "Buzz\n",
    "Fizz\n",
    "7\n",
    "8\n",
    "Fizz\n",
    "Buzz\n",
    "11\n",
    "Fizz\n",
    "13\n",
    "14\n",
    "FizzBuzz\n",
    "```\n",
    "<br>\n"
   ]
  },
  {
   "cell_type": "markdown",
   "metadata": {},
   "source": [
    "### 39. Write a recursive function that creates a countdown from the number you passed. For example:\n",
    "```\n",
    "def countdown(n: int) -> None:\n",
    "    ### Your Code Here ###\n",
    "countdown(5)\n",
    "```\n",
    "### Should *print*:\n",
    "```\n",
    "5\n",
    "4\n",
    "3\n",
    "2\n",
    "1\n",
    "0\n",
    "```"
   ]
  },
  {
   "cell_type": "code",
   "execution_count": null,
   "metadata": {},
   "outputs": [],
   "source": []
  },
  {
   "cell_type": "markdown",
   "metadata": {},
   "source": [
    "### 40. Create a dictionary whose keys are a range of numbers between 1 and 10, and whose values are the square of the corresponding key. You can only use lambda functions. "
   ]
  },
  {
   "cell_type": "code",
   "execution_count": null,
   "metadata": {},
   "outputs": [],
   "source": []
  },
  {
   "cell_type": "markdown",
   "metadata": {},
   "source": [
    "### 41. From Roman to Arabic\n",
    "\n",
    "Create a function that converts roman numbers to arabic numbers. The function should take a string and return an integer. You can start this challenge with this code:\n",
    "```\n",
    "def from_roman_to_arabic(roman: str) -> int:\n",
    "   ### Your Code Here ###\n",
    "\n",
    "roman = 'MCMXCI'\n",
    "print(from_roman_to_arabic(roman))\n",
    "```\n",
    "The output should be:\n",
    "```\n",
    "1991 \n",
    "```\n",
    "*Which, btw, it's the year when Python was released*"
   ]
  },
  {
   "cell_type": "code",
   "execution_count": null,
   "metadata": {},
   "outputs": [],
   "source": []
  },
  {
   "cell_type": "markdown",
   "metadata": {},
   "source": [
    "### 42. You have the following class:\n",
    "```\n",
    "class Person:\n",
    "    def __init__(self, name, age):\n",
    "        self.name = name\n",
    "        self.age = age\n",
    "```\n",
    "Create an instance of the class Person and print its type"
   ]
  },
  {
   "cell_type": "code",
   "execution_count": null,
   "metadata": {},
   "outputs": [],
   "source": []
  },
  {
   "cell_type": "markdown",
   "metadata": {},
   "source": [
    "### 43. Add the \\_\\_str__ magic method so when you print an instance, it shows: `{name} has {age} years`"
   ]
  },
  {
   "cell_type": "code",
   "execution_count": null,
   "metadata": {},
   "outputs": [],
   "source": []
  },
  {
   "cell_type": "markdown",
   "metadata": {},
   "source": [
    "### 44. Create a Building Class with max_capacity attribute"
   ]
  },
  {
   "cell_type": "code",
   "execution_count": null,
   "metadata": {},
   "outputs": [],
   "source": []
  },
  {
   "cell_type": "markdown",
   "metadata": {},
   "source": [
    "### 45. Create an Hospital, Mall, and School classes that inherit from Building"
   ]
  },
  {
   "cell_type": "code",
   "execution_count": null,
   "metadata": {},
   "outputs": [],
   "source": []
  },
  {
   "cell_type": "markdown",
   "metadata": {},
   "source": [
    "### 46. Add the \\_\\_gt__ \\_\\_eq__ and \\_\\_lt__ magic methods to Building, so when comparing two buildings, it only compares the max capacity"
   ]
  },
  {
   "cell_type": "code",
   "execution_count": null,
   "metadata": {},
   "outputs": [],
   "source": []
  },
  {
   "cell_type": "markdown",
   "metadata": {},
   "source": [
    "### 47. You want each of the buildings to have a method named open_doors that prints 'Opening doors'. Convert the base class Building into an abstract base class, and includes the abstract method open_doors"
   ]
  },
  {
   "cell_type": "code",
   "execution_count": null,
   "metadata": {},
   "outputs": [],
   "source": []
  },
  {
   "cell_type": "markdown",
   "metadata": {},
   "source": [
    "### 48. Create a generator that randomly returns 1 or 0"
   ]
  },
  {
   "cell_type": "code",
   "execution_count": null,
   "metadata": {},
   "outputs": [],
   "source": []
  },
  {
   "cell_type": "markdown",
   "metadata": {},
   "source": [
    "### 49. Create a generator that takes a list as an input an iterates infinitely through it. "
   ]
  },
  {
   "cell_type": "code",
   "execution_count": null,
   "metadata": {},
   "outputs": [],
   "source": []
  },
  {
   "cell_type": "markdown",
   "metadata": {},
   "source": [
    "### 50. Create a generator that takes an integer as an input and returns random passwords with a length equal to the passed integer"
   ]
  },
  {
   "cell_type": "code",
   "execution_count": null,
   "metadata": {},
   "outputs": [],
   "source": []
  },
  {
   "cell_type": "markdown",
   "metadata": {},
   "source": [
    "### 51. Create a decorator that, when wappring a function it prints this before and after calling the function:\n",
    "    %%%%%%%%%%%%%%%%%%%%%%%%%%%%%%\n",
    "(30 percents)"
   ]
  },
  {
   "cell_type": "code",
   "execution_count": null,
   "metadata": {},
   "outputs": [],
   "source": []
  },
  {
   "cell_type": "markdown",
   "metadata": {},
   "source": [
    "### 52. Create a decorator that, when wappring a function it prints this before and after calling the function:\n",
    "    ******************************\n",
    "(30 stars)\n"
   ]
  },
  {
   "cell_type": "code",
   "execution_count": null,
   "metadata": {},
   "outputs": [],
   "source": []
  },
  {
   "cell_type": "markdown",
   "metadata": {},
   "source": [
    "##"
   ]
  },
  {
   "cell_type": "markdown",
   "metadata": {},
   "source": [
    "### 53. Chain both decorators, so when calling for a function, it should print this before:\n",
    "    ******************************\n",
    "    %%%%%%%%%%%%%%%%%%%%%%%%%%%%%%\n",
    "### and this after:\n",
    "    %%%%%%%%%%%%%%%%%%%%%%%%%%%%%%\n",
    "    ******************************"
   ]
  },
  {
   "cell_type": "markdown",
   "metadata": {},
   "source": [
    "### 54. You have the following function:\n",
    "    def divide(a, b):\n",
    "        print(a / b)\n",
    "Create a decorator named smart_div that prints 'I am going to divide a and b'. If b is 0, print \"I can't do that!\""
   ]
  },
  {
   "cell_type": "code",
   "execution_count": null,
   "metadata": {},
   "outputs": [],
   "source": []
  },
  {
   "cell_type": "markdown",
   "metadata": {},
   "source": [
    "### 55. The Fibonnacci sequence is a classic in recursion. Except for the two first numbers, each item is the addition of the two previous numbers. Create a function that returns the Fibonacci number that instead of using the two previous numbers, uses the previous three"
   ]
  },
  {
   "cell_type": "code",
   "execution_count": null,
   "metadata": {},
   "outputs": [],
   "source": []
  },
  {
   "cell_type": "markdown",
   "metadata": {},
   "source": [
    "### 56. Calling the new fibonacci function with a large number takes a lot of time. Probably we would be here all day for printing the 1000th number. Luckily, Python has a library named functools. More specifically, we want to use the lru_cache decorator inside that library. https://docs.python.org/3/library/functools.html#functools.lru_cache\n",
    "\n",
    "Use the lru_cache decorator on the new fibonacci function, and call the function with a high number"
   ]
  },
  {
   "cell_type": "markdown",
   "metadata": {},
   "source": []
  },
  {
   "cell_type": "markdown",
   "metadata": {},
   "source": [
    "## Last Four Challenges! Hangman"
   ]
  },
  {
   "cell_type": "markdown",
   "metadata": {},
   "source": [
    "### 57. Create a Hangman class. Let's start with the constructor, it will not take any argument, and it will have the following attributes: \n",
    "        self.word = random.choice(word_list)\n",
    "        self.word_guessed = ### Complete this with a list with len(self.word) items, and each item is an underscore\n",
    "        self.num_letters = ### Complete it with the number of unique letters in self.word\n",
    "        self.num_lives = 5\n",
    "        self.list_letters = [] # List of letters that have already been tried\n",
    "        self.__drawing = [\n",
    "                        '_____  ',\n",
    "                        '|   |  ',\n",
    "                        '|      ',\n",
    "                        '|      ',\n",
    "                        '|      ',\n",
    "                        '|      ',\n",
    "                        '|      ',\n",
    "                        '|______',\n",
    "                        ] \n",
    "You have the code below that downloads a collection of english words. You probably need to pip install nltk"
   ]
  },
  {
   "cell_type": "code",
   "execution_count": 12,
   "metadata": {},
   "outputs": [
    {
     "name": "stderr",
     "output_type": "stream",
     "text": [
      "[nltk_data] Downloading package words to /Users/ivanying/nltk_data...\n",
      "[nltk_data]   Unzipping corpora/words.zip.\n"
     ]
    }
   ],
   "source": [
    "from nltk.corpus import words\n",
    "import nltk\n",
    "nltk.download('words')\n",
    "import random\n",
    "word_list = words.words()"
   ]
  },
  {
   "cell_type": "markdown",
   "metadata": {},
   "source": [
    "### 58. We need to define a series of methods. I will give you two as a gift:\n",
    "    def __repr__(self):\n",
    "        return '\\n'.join(self.__drawing)\n",
    "\n",
    "This magic method prints the hangman instance as it is represented by self.__drawing\n",
    "\n",
    "    def check_lives(self):\n",
    "            if self.num_lives == 4:\n",
    "                self.__drawing[2] = '|   O  '\n",
    "            elif self.num_lives == 3:\n",
    "                self.__drawing[3] = '| __|  '\n",
    "                self.__drawing[4] = '|   |  '\n",
    "            elif self.num_lives == 2:\n",
    "                self.__drawing[3] = '| __|__'\n",
    "            elif self.num_lives == 1:\n",
    "                self.__drawing[5] = '|   /  '\n",
    "                self.__drawing[6] = '|  /   '\n",
    "            elif self.num_lives == 0:\n",
    "                self.__drawing[5] = '|   /\\ '\n",
    "                self.__drawing[6] = '|  /  \\\\'\n",
    "\n",
    "### This method will change self.__drawing as we start losing lives, so more body parts will be added to our hangman. \n",
    "\n",
    "### It is your turn to create the method check_letter. This method accepts a string as an argument, if that letter is in the word, substitute the corresponding character in self.word_guessed for the letter. Additionally, substract one unit to self.num_letters, so now we have one letter less to win.\n",
    "\n",
    "### If the letter is not in word, subtract one unit to self.num_lives and call for the method check_lives. If you run out of lives, print the word to show what we had to guess\n"
   ]
  },
  {
   "cell_type": "code",
   "execution_count": null,
   "metadata": {},
   "outputs": [],
   "source": []
  },
  {
   "cell_type": "markdown",
   "metadata": {},
   "source": [
    "### 59. The last method is process_input. This method ask for a letter, and checks if it is a string of length 1, otherwise it will ask to ask for another letter.\n",
    "\n",
    "### If the letter is not in self.list_letters (the list of already tried letters), call for the check_letter method, and append the letter to self.list_letters, so now this letter is in the list of already tried letters. \n",
    "\n",
    "### If the letter IS in the self.list_letters, ask for a new letter and print out the list of already used letters"
   ]
  },
  {
   "cell_type": "code",
   "execution_count": null,
   "metadata": {},
   "outputs": [],
   "source": []
  },
  {
   "cell_type": "markdown",
   "metadata": {},
   "source": [
    "### 60. Finally, it is time to play. Call for the Hangman class, and create a loop that breaks either when we run out of lives or when there are no more letters to be guessed (self.num_letters)"
   ]
  },
  {
   "cell_type": "code",
   "execution_count": null,
   "metadata": {},
   "outputs": [],
   "source": []
  }
 ],
 "metadata": {
  "interpreter": {
   "hash": "e1e2229a1fa9870ee33783501b0558f0ddbc8a2ab996f1e23e75624c7e4b09f8"
  },
  "kernelspec": {
   "name": "python3",
   "display_name": "Python 3.8.5 64-bit ('base': conda)"
  },
  "language_info": {
   "codemirror_mode": {
    "name": "ipython",
    "version": 3
   },
   "file_extension": ".py",
   "mimetype": "text/x-python",
   "name": "python",
   "nbconvert_exporter": "python",
   "pygments_lexer": "ipython3",
   "version": "3.8.5"
  },
  "orig_nbformat": 4
 },
 "nbformat": 4,
 "nbformat_minor": 2
}