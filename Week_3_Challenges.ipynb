{
 "cells": [
  {
   "cell_type": "markdown",
   "metadata": {},
   "source": [
    "### 1. Use a SINGLE print statement to print 'Frodo Sam Pippin Merry Gandalf Legolas Gimli Aragorn Boromir' each name in a separate line (9 lines in total)"
   ]
  },
  {
   "cell_type": "code",
   "execution_count": 1,
   "metadata": {
    "ExecuteTime": {
     "end_time": "2021-08-10T19:43:28.367689Z",
     "start_time": "2021-08-10T19:43:28.364389Z"
    }
   },
   "outputs": [
    {
     "name": "stdout",
     "output_type": "stream",
     "text": [
      "Frodo\n",
      "Sam\n",
      "Pippin\n",
      "Merry\n",
      "Gandalf\n",
      "Legolas\n",
      "Gimli\n",
      "Aragorn\n",
      "Boromir\n"
     ]
    }
   ],
   "source": [
    "print(\"Frodo\\nSam\\nPippin\\nMerry\\nGandalf\\nLegolas\\nGimli\\nAragorn\\nBoromir\")"
   ]
  },
  {
   "cell_type": "markdown",
   "metadata": {},
   "source": [
    "### 2. Ask for the name of the user using the input function. Then print 'Hello {name}'"
   ]
  },
  {
   "cell_type": "code",
   "execution_count": null,
   "metadata": {},
   "outputs": [],
   "source": []
  },
  {
   "cell_type": "markdown",
   "metadata": {},
   "source": [
    "### 3. Ask for two numbers using the input function. Use the print function to show the product of both numbers"
   ]
  },
  {
   "cell_type": "markdown",
   "metadata": {},
   "source": []
  },
  {
   "cell_type": "markdown",
   "metadata": {},
   "source": [
    "## For the next exercises you don't have to run anything, just write (or discuss) the answer"
   ]
  },
  {
   "cell_type": "markdown",
   "metadata": {},
   "source": [
    "### 4. The following code runs fine, but there are problems in the coding style. Can you spot at least four? (There are seven in total)"
   ]
  },
  {
   "cell_type": "code",
   "execution_count": null,
   "metadata": {},
   "outputs": [],
   "source": [
    "#Exercise 4\n",
    "\n",
    "class challenge:\n",
    "    def __init__(self, name = '4'):\n",
    "        pass\n",
    "def ChallengeFunction():\n",
    "    print('This is a challenge!')\n",
    "I =challenge()\n",
    "\n"
   ]
  },
  {
   "cell_type": "markdown",
   "metadata": {},
   "source": [
    "### 5. Correct the syntax so the following code runs. While you are at it, make the appropriate changes to have a good coding style"
   ]
  },
  {
   "cell_type": "markdown",
   "metadata": {},
   "source": [
    "favourite-animal = 'Platypus'\n",
    "\n",
    "laziestAnimal = 'Koala'\n",
    "\n",
    "LaziestAnimal = 'Sloth'\n",
    "\n",
    "DesertAnimal='Camel'"
   ]
  },
  {
   "cell_type": "markdown",
   "metadata": {},
   "source": [
    "### 6. Which of the following are valid Variable names? (Regarding both Python validity and style)\n",
    "\n",
    "a) myBestScore\n",
    "\n",
    "b) Name\n",
    "\n",
    "c) 1stClass\n",
    "\n",
    "d) cost_of_meal\n",
    "\n",
    "e) print84\n",
    "\n",
    "f) A-1\n",
    "\n",
    "g) hello_world"
   ]
  },
  {
   "cell_type": "markdown",
   "metadata": {},
   "source": [
    "### 7. Python doesn't allow to define constants, but is a good practice to use uppercase letters for variables that we know shouldn't change (PI, SPEED_OF_LIGHT). Which of the following variables should be uppercase?\n",
    "\n",
    "a) max_lives = 3\n",
    "\n",
    "b) lives_remaining = 2\n",
    "\n",
    "c) city_population = 354037\n",
    "\n",
    "d) gravity = 9.8 # m s-2 "
   ]
  },
  {
   "cell_type": "markdown",
   "metadata": {},
   "source": [
    "## We go back to run code. Let's get our hands dirty again"
   ]
  },
  {
   "cell_type": "markdown",
   "metadata": {},
   "source": [
    "### 7. Complete the following code to print how many books each child will receive and how many will be left over"
   ]
  },
  {
   "cell_type": "code",
   "execution_count": null,
   "metadata": {},
   "outputs": [],
   "source": [
    "#Program name: Challenge 17 Divide books among children completed\n",
    "\n",
    "books = 650\n",
    "children = 173\n",
    "booksPerChild = \n",
    "booksLeftOver = \n",
    "\n",
    "\n",
    "print(\"Books per child: \", )\n",
    "print(\"Books remaining: \", )"
   ]
  },
  {
   "cell_type": "markdown",
   "metadata": {},
   "source": [
    "### 8. Ask for two numbers using the input function to calculate the division and the remainder. It should print '{number_1} divided by {number_2} = {result_1} and the remainder is {result_2}'"
   ]
  },
  {
   "cell_type": "code",
   "execution_count": null,
   "metadata": {},
   "outputs": [],
   "source": []
  },
  {
   "cell_type": "markdown",
   "metadata": {},
   "source": [
    "### 9. Ask for two numbers using the input function to calculate the result of number_1 to the power of number_2. Then print '{number_1} to the power of {number_2} = {result_1}'"
   ]
  },
  {
   "cell_type": "code",
   "execution_count": null,
   "metadata": {},
   "outputs": [],
   "source": []
  },
  {
   "cell_type": "markdown",
   "metadata": {},
   "source": [
    "### 10. Ask for one number using the input function to calculate the square root of it. It should print '{number_1} to the power of {number_2} = {result_1}'"
   ]
  },
  {
   "cell_type": "code",
   "execution_count": null,
   "metadata": {},
   "outputs": [],
   "source": []
  },
  {
   "cell_type": "markdown",
   "metadata": {},
   "source": [
    "### 11. The formula for converting Fahrenheit to Celsius is: C = (F - 32) * 5 / 9. Create a function that takes f and returns c"
   ]
  },
  {
   "cell_type": "code",
   "execution_count": null,
   "metadata": {},
   "outputs": [],
   "source": []
  },
  {
   "cell_type": "markdown",
   "metadata": {},
   "source": [
    "### 12. Ask for two inputs to the user, one name and one number. Multiply the number by 2 and concatenate the result to the name. For example, if you enter 'Ivan' and '21', it should print 'Ivan42'"
   ]
  },
  {
   "cell_type": "code",
   "execution_count": null,
   "metadata": {},
   "outputs": [],
   "source": []
  },
  {
   "cell_type": "markdown",
   "metadata": {},
   "source": [
    "### 13. Ask for two numbers using the input function. Compare them and print the result. So for example if you enter '1' and '5', then print '1 is greater than 5 : False'. On the other hand, if you enter '5' and '1', print '5 is greater than 1 : True'"
   ]
  },
  {
   "cell_type": "markdown",
   "metadata": {},
   "source": []
  },
  {
   "cell_type": "markdown",
   "metadata": {},
   "source": [
    "### 14 A [XOR gate](https://en.wikipedia.org/wiki/XOR_gate) is a digital logic gate that gives a true (1 or HIGH) output when the number of true inputs is odd\n",
    "|A|B|Output|\n",
    "|--|--|--|\n",
    "|0|0|0|\n",
    "|0|1|0|\n",
    "|1|0|1|\n",
    "|1|1|0|\n",
    "\n",
    "![XOR gate](./images/XOR.png)\n",
    "\n",
    "\n",
    "**You can build it using an AND gate whose inputs are the output of a NAND gate and the output of an OR gate**\n",
    "**If `a = True` and `b = False`**\n",
    "**Use logical operators to:**\n",
    "### 14.a) Check the output of an OR logic gate and store the value in C\n"
   ]
  },
  {
   "cell_type": "code",
   "execution_count": null,
   "metadata": {},
   "outputs": [],
   "source": []
  },
  {
   "cell_type": "markdown",
   "metadata": {},
   "source": [
    "\n",
    "### 14.b) Check the output of an AND logic gate and store the value in D\n"
   ]
  },
  {
   "cell_type": "code",
   "execution_count": null,
   "metadata": {},
   "outputs": [],
   "source": []
  },
  {
   "cell_type": "markdown",
   "metadata": {},
   "source": [
    "### 14.c) *Negate* the value of D and store the value in D_not\n"
   ]
  },
  {
   "cell_type": "code",
   "execution_count": null,
   "metadata": {},
   "outputs": [],
   "source": []
  },
  {
   "cell_type": "markdown",
   "metadata": {},
   "source": [
    "### 14.d) Check the output of an AND gate when the inputs are C and D_not\n"
   ]
  },
  {
   "cell_type": "code",
   "execution_count": null,
   "metadata": {},
   "outputs": [],
   "source": []
  },
  {
   "cell_type": "markdown",
   "metadata": {},
   "source": [
    "### 14.e) Can you do all the steps in one line?"
   ]
  },
  {
   "cell_type": "code",
   "execution_count": null,
   "metadata": {},
   "outputs": [],
   "source": []
  },
  {
   "cell_type": "markdown",
   "metadata": {},
   "source": [
    "### 15. This program asks three quiz questions, and scores the answers. Correct answers are: hummingbird, False, bullfrog. Each correct answer scores 1. Finally, if the score is 3 print \"Well done!\", if the score is 2 print \"Pretty good\", if the score is 1, print \"More nature study required...\", if it's 0, print \"Ooops...\""
   ]
  },
  {
   "cell_type": "code",
   "execution_count": null,
   "metadata": {},
   "outputs": [],
   "source": [
    "# Initialize Score\n",
    "\n",
    "print(\"Answer each of the following three questions:\")\n",
    "answer = input(\"\\nWhich is the only bird that can fly backwards? \\n\\\n",
    "(a) Hummingbird, (b) Swift, (c) Flamingo? \")\n",
    "\n",
    "# Correct answer is a\n",
    "### YOUR CODE HERE ###\n",
    "\n",
    "answer = input(\"\\nYou can get warts from touching a toad - \\n\\\n",
    "True (T) or False (F)? \")\n",
    "\n",
    "# Correct answer is F\n",
    "### YOUR CODE HERE ###\n",
    "\n",
    "\n",
    "answer = input(\"\\nWhich animal never sleeps? \\n\\\n",
    "(a) bullfrog  (b) whale  (c) butterfly  \")\n",
    "\n",
    "# Correct answer is a\n",
    "### YOUR CODE HERE ###\n",
    "\n",
    "# Print the score and the message corresponding to the score\n"
   ]
  },
  {
   "cell_type": "markdown",
   "metadata": {},
   "source": [
    "### 16. The code in exercise 15 doesn't take into account wrong inputs (d, e, or a number). Modify the code so it ask for an input until it is a valid input (a, A, b, B, c or C) for each of the questions"
   ]
  },
  {
   "cell_type": "code",
   "execution_count": null,
   "metadata": {},
   "outputs": [],
   "source": []
  },
  {
   "cell_type": "markdown",
   "metadata": {},
   "source": [
    "### 17. Complete the following code. Ask for an input, it has to be 1, 2 or 3.\n",
    "\n",
    "    1 prints 'Option 1 selected, balance printed'. \n",
    "    2 prints 'Option 2 selected: mini statement printed'\n",
    "    3 asks for an amount. This amount has to be 20, 50 or 100. It won't stop until you enter a correct amount"
   ]
  },
  {
   "cell_type": "code",
   "execution_count": 4,
   "metadata": {},
   "outputs": [
    {
     "name": "stdout",
     "output_type": "stream",
     "text": [
      "1. Balance enquiry\n",
      "2. Mini statement\n",
      "3. Fast cash\n",
      "\n",
      "Please select a transaction\n"
     ]
    }
   ],
   "source": [
    "#program simulates selecting \"Fast cash\" at ATM\n",
    "\n",
    "print(\"1. Balance enquiry\")\n",
    "print(\"2. Mini statement\")\n",
    "print(\"3. Fast cash\\n\")\n",
    "print(\"Please select a transaction\")\n"
   ]
  },
  {
   "cell_type": "markdown",
   "metadata": {},
   "source": [
    "### 18. Write a program to display the times tables 1 to 10, displaying each table in the format:\n",
    "1 x 1 = 1\n",
    "\n",
    "1 x 2 = 2"
   ]
  },
  {
   "cell_type": "code",
   "execution_count": null,
   "metadata": {},
   "outputs": [],
   "source": []
  },
  {
   "cell_type": "markdown",
   "metadata": {},
   "source": [
    "### 18. Using for loops print 10 lines, where each line contains the same the corresponding number of *. Thus, the first line has 1 *, the second line contains 2 *. The output should be:\n",
    "\n",
    "    *\n",
    "    **\n",
    "    ***\n",
    "    ****\n",
    "    *****\n",
    "    ******\n",
    "    ..."
   ]
  },
  {
   "cell_type": "markdown",
   "metadata": {},
   "source": [
    "### 19. Write a program to count from 0 to 100 in 5s and print them all in one line. The output should look like:\n",
    "    0 5 10 15 20 25"
   ]
  },
  {
   "cell_type": "markdown",
   "metadata": {},
   "source": [
    "### 20. Write a program to ask the user to input two integers a and b, where a < b. Print all the numbers between a and b inclusive that are divisible by 4"
   ]
  },
  {
   "cell_type": "code",
   "execution_count": null,
   "metadata": {},
   "outputs": [],
   "source": []
  },
  {
   "cell_type": "markdown",
   "metadata": {},
   "source": [
    "### 20. Create a program that asks the user to enter a number between 1 and 10. If the number is not in this range, keep printing a warning message and asking the user to re-enter the number. Then keep doubling this number until the result is 100000 or more. Print the final result and the number of times the number was doubled"
   ]
  },
  {
   "cell_type": "code",
   "execution_count": null,
   "metadata": {},
   "outputs": [],
   "source": []
  },
  {
   "cell_type": "markdown",
   "metadata": {},
   "source": [
    "### 21. You have two lists, one list contains the names of eight planets, and the second list contains the size of the planets in percentages relatice to the Earth. You have to print, for each planet something like this:\n",
    "    Jupiter is 1120% the size of Earth"
   ]
  },
  {
   "cell_type": "code",
   "execution_count": 5,
   "metadata": {},
   "outputs": [],
   "source": [
    "planet = [\"Jupiter\", \"Saturn\", \"Uranus\",\n",
    "          \"Neptune\", \"Venus\", \"Mars\", \"Mercury\", \"Earth\"]\n",
    "size = [1120, 945, 400, 390, 95, 53, 38, 100]\n"
   ]
  },
  {
   "cell_type": "markdown",
   "metadata": {},
   "source": [
    "### 22. zip planet and size and cast the output into a dictionary. Recreate the same output as 21 using this dictionary"
   ]
  },
  {
   "cell_type": "code",
   "execution_count": null,
   "metadata": {},
   "outputs": [],
   "source": []
  },
  {
   "cell_type": "markdown",
   "metadata": {},
   "source": [
    "### 23. Use the list planet to find the index of each of the following planets:\n",
    "    'Jupiter', 'Mars', 'Earth'\n",
    "### store the indices in a list named planet_idx, and use this list to see create a new list where each item is the relative size of the planet with respect to the Earth."
   ]
  },
  {
   "cell_type": "code",
   "execution_count": null,
   "metadata": {},
   "outputs": [],
   "source": []
  },
  {
   "cell_type": "markdown",
   "metadata": {},
   "source": [
    "### 24. Write a program which prints the names of the largest and the smallest planets in the list described in exercise "
   ]
  },
  {
   "cell_type": "code",
   "execution_count": null,
   "metadata": {},
   "outputs": [],
   "source": []
  },
  {
   "cell_type": "markdown",
   "metadata": {},
   "source": [
    "### 25. Five skaters are awarded scores by 3 different judges. Each list corresponds to a skater: \"Amber\", \"Cindy\", \"Valentina\", \"Isabella\", \"Terri\". Calculate the mean score of each skater and print the name of the winner\n"
   ]
  },
  {
   "cell_type": "code",
   "execution_count": 8,
   "metadata": {},
   "outputs": [],
   "source": [
    "score = [ [75, 59, 63],  \n",
    "          [88, 91, 94],  \n",
    "          [78, 81, 84],\n",
    "          [65, 69, 73],\n",
    "          [90, 84, 69]]\n",
    "\n",
    "names = [\"Amber\", \"Cindy\", \"Valentina\", \"Isabella\", \"Terri\"]"
   ]
  },
  {
   "cell_type": "markdown",
   "metadata": {},
   "source": [
    "### 26. Create a dictionary whose keys are integers from 1 to 6, and the values are the corresponding key multiplied by ten. Name the dictionary *dict_1*"
   ]
  },
  {
   "cell_type": "code",
   "execution_count": null,
   "metadata": {},
   "outputs": [],
   "source": []
  },
  {
   "cell_type": "markdown",
   "metadata": {},
   "source": [
    "### 27. Create a dictionary whose only key is '_foo_',  and whose value is an empty list. Name the dictionary *dict_2*"
   ]
  },
  {
   "cell_type": "code",
   "execution_count": null,
   "metadata": {},
   "outputs": [],
   "source": []
  },
  {
   "cell_type": "markdown",
   "metadata": {},
   "source": [
    "### 28. Access the lists corresponding to '_foo_' in *dict_2* and *append*, the following strings: _'Hello there...'_ and _'General Kenobi,'_"
   ]
  },
  {
   "cell_type": "code",
   "execution_count": null,
   "metadata": {},
   "outputs": [],
   "source": []
  },
  {
   "cell_type": "markdown",
   "metadata": {},
   "source": [
    "### 29.  Add the key _'bar'_ to *dict_2* and assign the value _'You are a bold one'_"
   ]
  },
  {
   "cell_type": "markdown",
   "metadata": {},
   "source": []
  },
  {
   "cell_type": "markdown",
   "metadata": {},
   "source": [
    "### 30. Print all the *values* in *dict_2* as a single string\n"
   ]
  },
  {
   "cell_type": "code",
   "execution_count": null,
   "metadata": {},
   "outputs": [],
   "source": []
  },
  {
   "cell_type": "markdown",
   "metadata": {},
   "source": [
    "### 31. You have the following lists: \n",
    "    \n",
    "    Ash = ['Pikachu', 'Squirtle', 'Bulbasaur', 'Charizard', 'Snorlax', 'Pidgeot']\n",
    "    Gary = ['Eevee', 'Blastoise', 'Pidgeot', 'Lapras', 'Snorlax', 'Pidgeot']"
   ]
  },
  {
   "cell_type": "markdown",
   "metadata": {},
   "source": [
    "### 31.a) Create a set of all the Pokemon owned by both trainers\n",
    "### 31.b) Create a set of the common Pokemon owned by each trainer\n",
    "### 31.c) Create a set of the Pokemon owned by Gary and not by Ash \n",
    "### 31.d) Create a set of the Pokemon owned by Gary and by Ash but not by both"
   ]
  },
  {
   "cell_type": "code",
   "execution_count": null,
   "metadata": {},
   "outputs": [],
   "source": []
  },
  {
   "cell_type": "markdown",
   "metadata": {},
   "source": [
    "### 32. Create a function that takes an integer and *returns* a string containing the same integer. If the function is named `to_str`, then `to_str(5)` returns `'5'`"
   ]
  },
  {
   "cell_type": "code",
   "execution_count": null,
   "metadata": {},
   "outputs": [],
   "source": []
  },
  {
   "cell_type": "markdown",
   "metadata": {},
   "source": [
    "### 33. Print the keys of *dict_1* (exercise 26). What's its type? Cast it to a list and store it as *keys_1*"
   ]
  },
  {
   "cell_type": "markdown",
   "metadata": {},
   "source": []
  },
  {
   "cell_type": "markdown",
   "metadata": {},
   "source": [
    "### 34. Print the values of *dict_1*. What's its type? Cast it to a list and store it as *vals_1*\n"
   ]
  },
  {
   "cell_type": "code",
   "execution_count": null,
   "metadata": {},
   "outputs": [],
   "source": []
  },
  {
   "cell_type": "markdown",
   "metadata": {},
   "source": [
    "### 35. Concatenate the following dictionaries to create a new one. Name the new dictionary animals _Use .update() OR **kwargs_\n",
    "    d_1={1: 'Alligator', 2: 'Bee'}  \n",
    "    d_2={3: 'Crocodile', 4: 'Dodo'}  \n",
    "    d_3={5: 'Elephant', 6: 'Fox'}"
   ]
  },
  {
   "cell_type": "code",
   "execution_count": null,
   "metadata": {},
   "outputs": [],
   "source": []
  },
  {
   "cell_type": "markdown",
   "metadata": {},
   "source": [
    "### 36. Use a comprehension list to store the length of each *value* of *dict_2* "
   ]
  },
  {
   "cell_type": "code",
   "execution_count": null,
   "metadata": {},
   "outputs": [],
   "source": []
  },
  {
   "cell_type": "markdown",
   "metadata": {},
   "source": [
    "### 37. Use a comprehension list to store the values of *dict_2* only if the length of the string is greater than 6"
   ]
  },
  {
   "cell_type": "code",
   "execution_count": null,
   "metadata": {},
   "outputs": [],
   "source": []
  },
  {
   "cell_type": "markdown",
   "metadata": {},
   "source": [
    "### 38. FizzBuzz\n",
    "[FizzBuzz](https://en.wikipedia.org/wiki/Fizz_buzz) is a classic interview question that consists on counting to a determined number, and replace numbers divisible by three with the word _\"Fizz\"_, numbers divisible by five with the word _\"Buzz\"_, and numbers divisible by fifteen with _'FizzBuzz'_. Create a function that accepts any integer _n_, and prints the count to _n_ applying the rules of FizzBuzz. For example:\n",
    "```\n",
    "def fizzbuzz(n: int) -> None:\n",
    "    ### Your Code Here ###\n",
    "fizzbuzz(15)\n",
    "```\n",
    "Should *print*:\n",
    "```\n",
    "1\n",
    "2\n",
    "Fizz\n",
    "4\n",
    "Buzz\n",
    "Fizz\n",
    "7\n",
    "8\n",
    "Fizz\n",
    "Buzz\n",
    "11\n",
    "Fizz\n",
    "13\n",
    "14\n",
    "FizzBuzz\n",
    "```\n",
    "<br>\n"
   ]
  },
  {
   "cell_type": "markdown",
   "metadata": {},
   "source": [
    "### 39. Write a recursive function that creates a countdown from the number you passed. For example:\n",
    "```\n",
    "def countdown(n: int) -> None:\n",
    "    ### Your Code Here ###\n",
    "countdown(5)\n",
    "```\n",
    "### Should *print*:\n",
    "```\n",
    "5\n",
    "4\n",
    "3\n",
    "2\n",
    "1\n",
    "0\n",
    "```"
   ]
  },
  {
   "cell_type": "code",
   "execution_count": null,
   "metadata": {},
   "outputs": [],
   "source": []
  },
  {
   "cell_type": "markdown",
   "metadata": {},
   "source": [
    "### 40. Create a dictionary whose keys are a range of numbers between 1 and 10, and whose values are the square of the corresponding key. You can only use lambda functions. "
   ]
  },
  {
   "cell_type": "code",
   "execution_count": null,
   "metadata": {},
   "outputs": [],
   "source": []
  },
  {
   "cell_type": "markdown",
   "metadata": {},
   "source": [
    "### 41. From Roman to Arabic\n",
    "\n",
    "Create a function that converts roman numbers to arabic numbers. The function should take a string and return an integer. You can start this challenge with this code:\n",
    "```\n",
    "def from_roman_to_arabic(roman: str) -> int:\n",
    "   ### Your Code Here ###\n",
    "\n",
    "roman = 'MCMXCI'\n",
    "print(from_roman_to_arabic(roman))\n",
    "```\n",
    "The output should be:\n",
    "```\n",
    "1991 \n",
    "```\n",
    "*Which, btw, it's the year when Python was released*"
   ]
  },
  {
   "cell_type": "code",
   "execution_count": null,
   "metadata": {},
   "outputs": [],
   "source": []
  },
  {
   "cell_type": "markdown",
   "metadata": {},
   "source": [
    "### 42. You have the following class:\n",
    "```\n",
    "class Person:\n",
    "    def __init__(self, name, age):\n",
    "        self.name = name\n",
    "        self.age = age\n",
    "```\n",
    "Create an instance of the class Person and print its type"
   ]
  },
  {
   "cell_type": "code",
   "execution_count": null,
   "metadata": {},
   "outputs": [],
   "source": []
  },
  {
   "cell_type": "markdown",
   "metadata": {},
   "source": [
    "### 43. Add the \\_\\_str__ magic method so when you print an instance, it shows: `{name} has {age} years`"
   ]
  },
  {
   "cell_type": "code",
   "execution_count": null,
   "metadata": {},
   "outputs": [],
   "source": []
  },
  {
   "cell_type": "markdown",
   "metadata": {},
   "source": [
    "### 44. Create a Building Class with max_capacity attribute"
   ]
  },
  {
   "cell_type": "code",
   "execution_count": null,
   "metadata": {},
   "outputs": [],
   "source": []
  },
  {
   "cell_type": "markdown",
   "metadata": {},
   "source": [
    "### 45. Create an Hospital, Mall, and School classes that inherit from Building"
   ]
  },
  {
   "cell_type": "code",
   "execution_count": null,
   "metadata": {},
   "outputs": [],
   "source": []
  },
  {
   "cell_type": "markdown",
   "metadata": {},
   "source": [
    "### 46. Add the \\_\\_gt__ \\_\\_eq__ and \\_\\_lt__ magic methods to Building, so when comparing two buildings, it only compares the max capacity"
   ]
  },
  {
   "cell_type": "code",
   "execution_count": null,
   "metadata": {},
   "outputs": [],
   "source": []
  },
  {
   "cell_type": "markdown",
   "metadata": {},
   "source": [
    "### 47. You want each of the buildings to have a method named open_doors that prints 'Opening doors'. Convert the base class Building into an abstract base class, and includes the abstract method open_doors"
   ]
  },
  {
   "cell_type": "code",
   "execution_count": null,
   "metadata": {},
   "outputs": [],
   "source": []
  },
  {
   "cell_type": "markdown",
   "metadata": {},
   "source": [
    "### 48. Create a generator that randomly returns 1 or 0"
   ]
  },
  {
   "cell_type": "code",
   "execution_count": null,
   "metadata": {},
   "outputs": [],
   "source": []
  },
  {
   "cell_type": "markdown",
   "metadata": {},
   "source": [
    "### 49. Create a generator that takes a list as an input an iterates infinitely through it. "
   ]
  },
  {
   "cell_type": "code",
   "execution_count": null,
   "metadata": {},
   "outputs": [],
   "source": []
  },
  {
   "cell_type": "markdown",
   "metadata": {},
   "source": [
    "### 50. Create a generator that takes an integer as an input and returns random passwords with a length equal to the passed integer"
   ]
  },
  {
   "cell_type": "code",
   "execution_count": null,
   "metadata": {},
   "outputs": [],
   "source": []
  },
  {
   "cell_type": "markdown",
   "metadata": {},
   "source": [
    "### 51. Create a decorator that, when wappring a function it prints this before and after calling the function:\n",
    "    %%%%%%%%%%%%%%%%%%%%%%%%%%%%%%\n",
    "(30 percents)"
   ]
  },
  {
   "cell_type": "code",
   "execution_count": null,
   "metadata": {},
   "outputs": [],
   "source": []
  },
  {
   "cell_type": "markdown",
   "metadata": {},
   "source": [
    "### 52. Create a decorator that, when wappring a function it prints this before and after calling the function:\n",
    "    ******************************\n",
    "(30 stars)\n"
   ]
  },
  {
   "cell_type": "code",
   "execution_count": null,
   "metadata": {},
   "outputs": [],
   "source": []
  },
  {
   "cell_type": "markdown",
   "metadata": {},
   "source": [
    "##"
   ]
  },
  {
   "cell_type": "markdown",
   "metadata": {},
   "source": [
    "### 53. Chain both decorators, so when calling for a function, it should print this before:\n",
    "    ******************************\n",
    "    %%%%%%%%%%%%%%%%%%%%%%%%%%%%%%\n",
    "### and this after:\n",
    "    %%%%%%%%%%%%%%%%%%%%%%%%%%%%%%\n",
    "    ******************************"
   ]
  },
  {
   "cell_type": "markdown",
   "metadata": {},
   "source": [
    "### 54. You have the following function:\n",
    "    def divide(a, b):\n",
    "        print(a / b)\n",
    "Create a decorator named smart_div that prints 'I am going to divide a and b'. If b is 0, print \"I can't do that!\""
   ]
  },
  {
   "cell_type": "code",
   "execution_count": null,
   "metadata": {},
   "outputs": [],
   "source": []
  },
  {
   "cell_type": "markdown",
   "metadata": {},
   "source": [
    "### 55. The Fibonnacci sequence is a classic in recursion. Except for the two first numbers, each item is the addition of the two previous numbers. Create a function that returns the Fibonacci number that instead of using the two previous numbers, uses the previous three"
   ]
  },
  {
   "cell_type": "code",
   "execution_count": null,
   "metadata": {},
   "outputs": [],
   "source": []
  },
  {
   "cell_type": "markdown",
   "metadata": {},
   "source": [
    "### 56. Calling the new fibonacci function with a large number takes a lot of time. Probably we would be here all day for printing the 1000th number. Luckily, Python has a library named functools. More specifically, we want to use the lru_cache decorator inside that library. https://docs.python.org/3/library/functools.html#functools.lru_cache\n",
    "\n",
    "Use the lru_cache decorator on the new fibonacci function, and call the function with a high number"
   ]
  },
  {
   "cell_type": "markdown",
   "metadata": {},
   "source": []
  },
  {
   "cell_type": "markdown",
   "metadata": {},
   "source": [
    "## Last Four Challenges! Hangman"
   ]
  },
  {
   "cell_type": "markdown",
   "metadata": {},
   "source": [
    "### 57. Create a Hangman class. Let's start with the constructor, it will not take any argument, and it will have the following attributes: \n",
    "        self.word = random.choice(word_list)\n",
    "        self.word_guessed = ### Complete this with a list with len(self.word) items, and each item is an underscore\n",
    "        self.num_letters = ### Complete it with the number of unique letters in self.word\n",
    "        self.num_lives = 5\n",
    "        self.list_letters = [] # List of letters that have already been tried\n",
    "        self.__drawing = [\n",
    "                        '_____  ',\n",
    "                        '|   |  ',\n",
    "                        '|      ',\n",
    "                        '|      ',\n",
    "                        '|      ',\n",
    "                        '|      ',\n",
    "                        '|      ',\n",
    "                        '|______',\n",
    "                        ] \n",
    "You have the code below that downloads a collection of english words. You probably need to pip install nltk"
   ]
  },
  {
   "cell_type": "code",
   "execution_count": 12,
   "metadata": {},
   "outputs": [
    {
     "name": "stderr",
     "output_type": "stream",
     "text": [
      "[nltk_data] Downloading package words to /Users/ivanying/nltk_data...\n",
      "[nltk_data]   Unzipping corpora/words.zip.\n"
     ]
    }
   ],
   "source": [
    "from nltk.corpus import words\n",
    "import nltk\n",
    "nltk.download('words')\n",
    "import random\n",
    "word_list = words.words()"
   ]
  },
  {
   "cell_type": "markdown",
   "metadata": {},
   "source": [
    "### 58. We need to define a series of methods. I will give you two as a gift:\n",
    "    def __repr__(self):\n",
    "        return '\\n'.join(self.__drawing)\n",
    "\n",
    "This magic method prints the hangman instance as it is represented by self.__drawing\n",
    "\n",
    "    def check_lives(self):\n",
    "            if self.num_lives == 4:\n",
    "                self.__drawing[2] = '|   O  '\n",
    "            elif self.num_lives == 3:\n",
    "                self.__drawing[3] = '| __|  '\n",
    "                self.__drawing[4] = '|   |  '\n",
    "            elif self.num_lives == 2:\n",
    "                self.__drawing[3] = '| __|__'\n",
    "            elif self.num_lives == 1:\n",
    "                self.__drawing[5] = '|   /  '\n",
    "                self.__drawing[6] = '|  /   '\n",
    "            elif self.num_lives == 0:\n",
    "                self.__drawing[5] = '|   /\\ '\n",
    "                self.__drawing[6] = '|  /  \\\\'\n",
    "\n",
    "### This method will change self.__drawing as we start losing lives, so more body parts will be added to our hangman. \n",
    "\n",
    "### It is your turn to create the method check_letter. This method accepts a string as an argument, if that letter is in the word, substitute the corresponding character in self.word_guessed for the letter. Additionally, substract one unit to self.num_letters, so now we have one letter less to win.\n",
    "\n",
    "### If the letter is not in word, subtract one unit to self.num_lives and call for the method check_lives. If you run out of lives, print the word to show what we had to guess\n"
   ]
  },
  {
   "cell_type": "code",
   "execution_count": null,
   "metadata": {},
   "outputs": [],
   "source": []
  },
  {
   "cell_type": "markdown",
   "metadata": {},
   "source": [
    "### 59. The last method is process_input. This method ask for a letter, and checks if it is a string of length 1, otherwise it will ask to ask for another letter.\n",
    "\n",
    "### If the letter is not in self.list_letters (the list of already tried letters), call for the check_letter method, and append the letter to self.list_letters, so now this letter is in the list of already tried letters. \n",
    "\n",
    "### If the letter IS in the self.list_letters, ask for a new letter and print out the list of already used letters"
   ]
  },
  {
   "cell_type": "code",
   "execution_count": null,
   "metadata": {},
   "outputs": [],
   "source": []
  },
  {
   "cell_type": "markdown",
   "metadata": {},
   "source": [
    "### 60. Finally, it is time to play. Call for the Hangman class, and create a loop that breaks either when we run out of lives or when there are no more letters to be guessed (self.num_letters)"
   ]
  },
  {
   "cell_type": "code",
   "execution_count": null,
   "metadata": {},
   "outputs": [],
   "source": []
  }
 ],
 "metadata": {
  "interpreter": {
   "hash": "569d6b7e9215e11aba41c6454007e5c1b78bad7df09dab765d8cf00362c40f03"
  },
  "kernelspec": {
   "display_name": "Python 3 (ipykernel)",
   "language": "python",
   "name": "python3"
  },
  "language_info": {
   "codemirror_mode": {
    "name": "ipython",
    "version": 3
   },
   "file_extension": ".py",
   "mimetype": "text/x-python",
   "name": "python",
   "nbconvert_exporter": "python",
   "pygments_lexer": "ipython3",
   "version": "3.9.6"
  }
 },
 "nbformat": 4,
 "nbformat_minor": 2
}
